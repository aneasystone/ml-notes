{
 "cells": [
  {
   "cell_type": "markdown",
   "metadata": {},
   "source": [
    "### 误差-分歧分解\n",
    "\n",
    "个体学习器准确性越高，多样性越大，则集成越好。\n",
    "\n",
    "### 多样性度量\n",
    "\n",
    "很很多方法用于估算个体学习器的多样化程度：\n",
    "\n",
    "* 不合度量\n",
    "* 相关系数\n",
    "* $Q$-统计量\n",
    "* $\\kappa$-统计量\n",
    "\n",
    "这些都是 **成对型**（pairwise）多样性度量，可以通过 **$\\kappa$-误差图** 绘制出来。\n",
    "\n",
    "### 如何提高多样性？\n",
    "\n",
    "* 数据样本扰动\n",
    "* 输入属性扰动\n",
    "* 输出表示扰动\n",
    "* 算法参数扰动"
   ]
  }
 ],
 "metadata": {
  "kernelspec": {
   "display_name": "Python 3",
   "language": "python",
   "name": "python3"
  },
  "language_info": {
   "codemirror_mode": {
    "name": "ipython",
    "version": 3
   },
   "file_extension": ".py",
   "mimetype": "text/x-python",
   "name": "python",
   "nbconvert_exporter": "python",
   "pygments_lexer": "ipython3",
   "version": "3.7.1"
  }
 },
 "nbformat": 4,
 "nbformat_minor": 2
}
