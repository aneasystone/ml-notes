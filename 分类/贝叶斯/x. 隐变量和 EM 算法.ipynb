{
 "cells": [
  {
   "cell_type": "markdown",
   "metadata": {},
   "source": [
    "在现实应用中，我们经常会遇到一些不完整的训练样本，某些属性可能会由于某种原因无法观测，比如在西瓜数据中，如果某个西瓜根蒂已脱落，无法看出它是蜷缩的，还是硬挺的，这种无法观测的属性变量叫做 **隐变量**（latent variable）。\n",
    "\n",
    "常用的隐变量估计方法是 **EM算法**（Expectation Maximization，期望最大化算法），它是一种迭代算法。"
   ]
  }
 ],
 "metadata": {
  "kernelspec": {
   "display_name": "Python 3",
   "language": "python",
   "name": "python3"
  },
  "language_info": {
   "codemirror_mode": {
    "name": "ipython",
    "version": 3
   },
   "file_extension": ".py",
   "mimetype": "text/x-python",
   "name": "python",
   "nbconvert_exporter": "python",
   "pygments_lexer": "ipython3",
   "version": "3.7.1"
  }
 },
 "nbformat": 4,
 "nbformat_minor": 2
}
