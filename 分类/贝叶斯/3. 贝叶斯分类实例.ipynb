{
 "cells": [
  {
   "cell_type": "markdown",
   "metadata": {},
   "source": [
    "### 实例一、性别判断\n",
    "\n",
    "在日常生活中，我们往往可以根据一个人的名字判断这个人是男是女，比如李大志，这个名字一听就是男性，因为大和志在男性的名字中用的比较多。通过贝叶斯定理，我们可以求得：\n",
    "\n",
    "$$\n",
    "P(gender=male | name=DaZhi) = \\frac{P(name=DaZhi | gender=male)P(gender=male)}{P(name=DaZhi)}\n",
    "$$\n",
    "\n",
    "$$\n",
    "P(gender=female | name=DaZhi) = \\frac{P(name=DaZhi | gender=female)P(gender=female)}{P(name=DaZhi)}\n",
    "$$\n",
    "\n",
    "其中，$P(name=DaZhi)$ 可以不用计算，$P(gender=female)$ 和 $P(gender=male)$ 一般来说差别不大，所以问题可以近似为：比较 $P(name=DaZhi | gender=female)$ 和 $P(name=DaZhi | gender=male)$ 的大小。"
   ]
  }
 ],
 "metadata": {
  "kernelspec": {
   "display_name": "Python 3",
   "language": "python",
   "name": "python3"
  },
  "language_info": {
   "codemirror_mode": {
    "name": "ipython",
    "version": 3
   },
   "file_extension": ".py",
   "mimetype": "text/x-python",
   "name": "python",
   "nbconvert_exporter": "python",
   "pygments_lexer": "ipython3",
   "version": "3.7.1"
  }
 },
 "nbformat": 4,
 "nbformat_minor": 2
}
