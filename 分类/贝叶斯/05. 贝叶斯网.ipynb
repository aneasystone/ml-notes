{
 "cells": [
  {
   "cell_type": "markdown",
   "metadata": {},
   "source": [
    "**贝叶斯网**（Bayesian network）也叫做 **信念网**（belief network），它由网络结构 $G$ 和参数 $\\Theta$ 两部分组成，网络结构 $G$ 是一个有向无环图（directed acyclic graph，简称 DAG），其每一个节点对应一个属性，若两个属性有直接依赖关系，则用一条边连接起来；参数 $\\Theta$ 用于定量描述这种依赖关系，它包含了每个属性的 **条件概率表**（conditional probability table，简称 CPT）。"
   ]
  }
 ],
 "metadata": {
  "kernelspec": {
   "display_name": "Python 3",
   "language": "python",
   "name": "python3"
  },
  "language_info": {
   "codemirror_mode": {
    "name": "ipython",
    "version": 3
   },
   "file_extension": ".py",
   "mimetype": "text/x-python",
   "name": "python",
   "nbconvert_exporter": "python",
   "pygments_lexer": "ipython3",
   "version": "3.7.1"
  }
 },
 "nbformat": 4,
 "nbformat_minor": 2
}
