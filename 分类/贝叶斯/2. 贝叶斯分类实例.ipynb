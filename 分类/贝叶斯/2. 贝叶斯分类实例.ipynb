{
 "cells": [
  {
   "cell_type": "markdown",
   "metadata": {},
   "source": [
    "### 实例一、门诊病人\n",
    "\n",
    "某个医院早上来了8个门诊病人，如下表：\n",
    "\n",
    "|症状|职业|疾病|\n",
    "|---|----|----|\n",
    "|打喷嚏|护士|感冒|\n",
    "|打喷嚏|农夫|过敏|\n",
    "|头痛|建筑工人|脑震荡|\n",
    "|头痛|建筑工人|感冒|\n",
    "|打喷嚏|建筑工人|过敏|\n",
    "|打喷嚏|教师|感冒|\n",
    "|头痛|教师|脑震荡|\n",
    "|打喷嚏|教师|过敏|\n",
    "\n",
    "现在来了第9个病人，是一个打喷嚏的建筑工人，那么他最可能得的疾病是什么？\n",
    "\n",
    "从上表中样本数据可以知道，可能的疾病有：感冒、过敏、脑震荡。要想预测这个建筑工人的疾病，实际上就是求下面的三个条件概率，然后取概率值最大的那种情况：\n",
    "\n",
    "* $P(感冒|打喷嚏 \\cap 建筑工人)$\n",
    "* $P(过敏|打喷嚏 \\cap 建筑工人)$\n",
    "* $P(脑震荡|打喷嚏 \\cap 建筑工人)$\n",
    "\n"
   ]
  }
 ],
 "metadata": {
  "kernelspec": {
   "display_name": "Python 3",
   "language": "python",
   "name": "python3"
  },
  "language_info": {
   "codemirror_mode": {
    "name": "ipython",
    "version": 3
   },
   "file_extension": ".py",
   "mimetype": "text/x-python",
   "name": "python",
   "nbconvert_exporter": "python",
   "pygments_lexer": "ipython3",
   "version": "3.7.1"
  }
 },
 "nbformat": 4,
 "nbformat_minor": 2
}
