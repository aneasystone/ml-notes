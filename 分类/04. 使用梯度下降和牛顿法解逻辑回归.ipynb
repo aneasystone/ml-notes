{
 "cells": [
  {
   "cell_type": "markdown",
   "metadata": {},
   "source": [
    "## 梯度下降法\n",
    "\n",
    "根据上一节得到的参数 w 和 b 的更新公式，和线性回归一样，为了保证求值稳定，我们在求和的基础上乘以 $\\frac{1}{n}$：\n",
    "\n",
    "$$\n",
    "w := w - \\eta \\frac{\\partial loss}{\\partial w} = w + \\eta \\frac{1}{n} \\sum_{i=1}^n (y_i - \\pi(x_i))x_i\n",
    "$$\n",
    "\n",
    "$$\n",
    "b := b - \\eta \\frac{\\partial loss}{\\partial b} = b + \\eta \\frac{1}{n} \\sum_{i=1}^n (y_i - \\pi(x_i))\n",
    "$$\n",
    "\n",
    "我们就可以用代码实践一把了。首先把最开始的例子散点图画出来："
   ]
  },
  {
   "cell_type": "code",
   "execution_count": 5,
   "metadata": {},
   "outputs": [
    {
     "data": {
      "image/png": "[encoded data removed]",
      "text/plain": [
       "<Figure size 432x288 with 1 Axes>"
      ]
     },
     "metadata": {
      "needs_background": "light"
     },
     "output_type": "display_data"
    }
   ],
   "source": [
    "import numpy as np\n",
    "import matplotlib.pyplot as plt\n",
    "\n",
    "plt.xlim(50, 100)\n",
    "plt.ylim(-0.5, 1.5)\n",
    "\n",
    "X = np.array([80, 85, 74, 63, 90, 70])\n",
    "Y = np.array([1, 1, 0, 0, 1, 0])\n",
    "plt.scatter(X, Y)\n",
    "\n",
    "plt.show()"
   ]
  },
  {
   "cell_type": "code",
   "execution_count": 6,
   "metadata": {},
   "outputs": [],
   "source": [
    "def pi(x, w, b):\n",
    "    return np.exp(w*x+b) / (1 + np.exp(w*x+b))\n",
    "\n",
    "# 参数 w 的更新公式\n",
    "def update_w(X, Y, w, b, eta):\n",
    "    s = 0\n",
    "    for i in range(X.size):\n",
    "        s += (Y[i] - pi(X[i], w, b))*X[i]\n",
    "    return w + eta * s * (1./Y.size)\n",
    "\n",
    "# 参数 b 的更新公式\n",
    "def update_b(X, Y, w, b, eta):\n",
    "    s = 0\n",
    "    for i in range(X.size):\n",
    "        s += (Y[i] - pi(X[i], w, b))\n",
    "    return b - eta * s * (1./Y.size)"
   ]
  },
  {
   "cell_type": "markdown",
   "metadata": {},
   "source": [
    "我们选取参数的初始值 $(w, b) = (0, 0)$，并令学习率 $\\eta = 0.01$，然后进行第一次迭代："
   ]
  },
  {
   "cell_type": "code",
   "execution_count": 26,
   "metadata": {},
   "outputs": [
    {
     "name": "stdout",
     "output_type": "stream",
     "text": [
      "w = -1.9200246451631382, b = 153.99999999880168\n"
     ]
    },
    {
     "data": {
      "image/png": "[encoded data removed]",
      "text/plain": [
       "<Figure size 432x288 with 1 Axes>"
      ]
     },
     "metadata": {
      "needs_background": "light"
     },
     "output_type": "display_data"
    }
   ],
   "source": [
    "w = -2\n",
    "b = 154\n",
    "eta = 0.01\n",
    "\n",
    "w_new = update_w(X, Y, w, b, eta)\n",
    "b_new = update_b(X, Y, w, b, eta)\n",
    "print(\"w = {0}, b = {1}\".format(w_new, b_new))\n",
    "\n",
    "x = np.linspace(60, 100, 10)\n",
    "y = 1.0 / (1 + np.exp(w_new*x+b_new))\n",
    "plt.plot(X, Y, 'k.')\n",
    "plt.plot(x, y, 'g-')\n",
    "plt.show()"
   ]
  },
  {
   "cell_type": "code",
   "execution_count": 25,
   "metadata": {},
   "outputs": [
    {
     "name": "stdout",
     "output_type": "stream",
     "text": [
      "w = -2.0188563668160375, b = 163.99985433358327\n"
     ]
    },
    {
     "data": {
      "image/png": "[encoded data removed]",
      "text/plain": [
       "<Figure size 432x288 with 1 Axes>"
      ]
     },
     "metadata": {
      "needs_background": "light"
     },
     "output_type": "display_data"
    }
   ],
   "source": [
    "for i in range(10000):\n",
    "    w_new = update_w(X, Y, w, b, eta)\n",
    "    b_new = update_b(X, Y, w, b, eta)\n",
    "    w = w_new\n",
    "    b = b_new\n",
    "    \n",
    "print(\"w = {0}, b = {1}\".format(w_new, b_new))\n",
    "\n",
    "x = np.linspace(60, 100, 10)\n",
    "y = 1.0 / (1 + np.exp(w_new*x+b_new))\n",
    "plt.plot(X, Y, 'k.')\n",
    "plt.plot(x, y, 'g-')\n",
    "plt.show()"
   ]
  },
  {
   "cell_type": "markdown",
   "metadata": {},
   "source": [
    "* TODO: 为啥不能收敛？"
   ]
  },
  {
   "cell_type": "markdown",
   "metadata": {},
   "source": [
    "## 牛顿法"
   ]
  }
 ],
 "metadata": {
  "kernelspec": {
   "display_name": "Python 3",
   "language": "python",
   "name": "python3"
  },
  "language_info": {
   "codemirror_mode": {
    "name": "ipython",
    "version": 3
   },
   "file_extension": ".py",
   "mimetype": "text/x-python",
   "name": "python",
   "nbconvert_exporter": "python",
   "pygments_lexer": "ipython3",
   "version": "3.7.1"
  }
 },
 "nbformat": 4,
 "nbformat_minor": 2
}
