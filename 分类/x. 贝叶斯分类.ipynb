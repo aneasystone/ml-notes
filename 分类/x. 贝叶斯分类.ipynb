{
 "cells": [
  {
   "cell_type": "markdown",
   "metadata": {},
   "source": [
    "贝叶斯公式：\n",
    "\n",
    "$$\n",
    "P(A|B) = \\frac{P(B|A) \\times P(A)}{P(B)}\n",
    "$$\n",
    "\n",
    "$P(A|B)$ 和 $P(B|A)$ 是条件概率，$P(A|B)$ 表示在事件 B 发生的条件下，事件 A 发生的概率。\n",
    "\n",
    "贝叶斯公式可以改写成下面的形式：\n",
    "\n",
    "$$\n",
    "P(\\theta|x) = \\frac{P(x|\\theta) \\times P(\\theta)}{P(x)}\n",
    "$$\n",
    "\n",
    "其中，$P(\\theta)$ 叫做**先验概率**（Prior probability），$P(\\theta|x)$ 叫做**后验概率**（Posterior probability），$P(x|\\theta)$ 叫做**似然估计**（Likelihood）"
   ]
  }
 ],
 "metadata": {
  "kernelspec": {
   "display_name": "Python 3",
   "language": "python",
   "name": "python3"
  },
  "language_info": {
   "codemirror_mode": {
    "name": "ipython",
    "version": 3
   },
   "file_extension": ".py",
   "mimetype": "text/x-python",
   "name": "python",
   "nbconvert_exporter": "python",
   "pygments_lexer": "ipython3",
   "version": "3.7.1"
  }
 },
 "nbformat": 4,
 "nbformat_minor": 2
}
