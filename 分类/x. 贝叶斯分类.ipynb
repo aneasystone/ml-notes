{
 "cells": [
  {
   "cell_type": "markdown",
   "metadata": {},
   "source": [
    "### 条件概率\n",
    "\n",
    "**概率**（probability）是从随机试验中的事件到实数域的映射函数，用于表示事件发生的可能性，事件 A 发生的概率通常记为 $P(A)$。\n",
    "\n",
    "如果 A 和 B 是样本空间 $\\Omega$ 上的两个事件，且 $P(B) > 0$，那么在给定 B 时 A 的**条件概率**（conditional probability）为：\n",
    "\n",
    "$$\n",
    "P(A|B) = \\frac {P(A \\cap B)}{P(B)}\n",
    "$$\n",
    "\n",
    "$P(A|B)$ 表示在事件 B 发生的条件下，事件 A 发生的概率。\n",
    "\n",
    "同理可得：\n",
    "\n",
    "$$\n",
    "P(B|A) = \\frac {P(A \\cap B)}{P(A)}\n",
    "$$\n",
    "\n",
    "结合上面两个公式，得到概率的**乘法定理**（也叫乘法法则）：\n",
    "\n",
    "$$\n",
    "P(A \\cap B) = P(A)P(B|A) = P(B)P(A|B)\n",
    "$$\n",
    "\n",
    "### 贝叶斯定理\n",
    "\n",
    "$$\n",
    "P(A|B) = \\frac{P(B|A) \\times P(A)}{P(B)}\n",
    "$$\n",
    "\n",
    "贝叶斯公式可以改写成下面的形式：\n",
    "\n",
    "$$\n",
    "P(\\theta|x) = \\frac{P(x|\\theta) \\times P(\\theta)}{P(x)}\n",
    "$$\n",
    "\n",
    "其中，$P(\\theta)$ 叫做**先验概率**（Prior probability），$P(\\theta|x)$ 叫做**后验概率**（Posterior probability），$P(x|\\theta)$ 叫做**似然估计**（Likelihood）"
   ]
  }
 ],
 "metadata": {
  "kernelspec": {
   "display_name": "Python 3",
   "language": "python",
   "name": "python3"
  },
  "language_info": {
   "codemirror_mode": {
    "name": "ipython",
    "version": 3
   },
   "file_extension": ".py",
   "mimetype": "text/x-python",
   "name": "python",
   "nbconvert_exporter": "python",
   "pygments_lexer": "ipython3",
   "version": "3.7.1"
  }
 },
 "nbformat": 4,
 "nbformat_minor": 2
}
