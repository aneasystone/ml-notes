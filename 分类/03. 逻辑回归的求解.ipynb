{
 "cells": [
  {
   "cell_type": "markdown",
   "metadata": {},
   "source": [
    "上一节我们看到可以使用逻辑回归来求解分类问题：\n",
    "\n",
    "$$\n",
    "ln \\frac{y}{1-y} = wx+b\n",
    "$$\n",
    "\n",
    "但是这里的 w 和 b 要怎么计算呢？前面在求解线性回归时，我们首先确定模型的损失函数，然后通过计算损失函数的最小值从而得到模型的各个参数。那么逻辑回归的损失函数该如何确定呢？\n",
    "\n",
    "// TODO 对数损失函数：\n",
    "\n",
    "$$\n",
    "Log Loss = \\sum_{(x,y)\\in D} -ylog(y') - (1 - y)log(1 - y')\n",
    "$$\n",
    "\n",
    "// TODO 最大似然函数\n",
    "\n",
    "// TODO 梯度下降算法\n",
    "\n",
    "// 一元分类 -> 二元分类 -> 多元分类\n",
    "// 二分类 -> 多分类\n",
    "// 线性分类 -> 非线性分类"
   ]
  }
 ],
 "metadata": {
  "kernelspec": {
   "display_name": "Python 3",
   "language": "python",
   "name": "python3"
  },
  "language_info": {
   "codemirror_mode": {
    "name": "ipython",
    "version": 3
   },
   "file_extension": ".py",
   "mimetype": "text/x-python",
   "name": "python",
   "nbconvert_exporter": "python",
   "pygments_lexer": "ipython3",
   "version": "3.7.1"
  }
 },
 "nbformat": 4,
 "nbformat_minor": 2
}
