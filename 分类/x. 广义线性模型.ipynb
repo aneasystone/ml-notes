{
 "cells": [
  {
   "cell_type": "markdown",
   "metadata": {},
   "source": [
    "线性回归和逻辑回归都是广义线性模型（Generalized Linear Model）的一种特殊形式。\n",
    "\n",
    "\n",
    "广义线性模型（Generalized Linear Model）\n",
    "https://zhuanlan.zhihu.com/p/22876460\n",
    "\n",
    "广义线性模型 学习笔记（一）——定义\n",
    "https://xg1990.com/blog/archives/304\n",
    "\n",
    "广义线性模型和逻辑回归的公式推导\n",
    "https://blog.csdn.net/wx_blue_pig/article/details/79808491\n",
    "\n",
    "从线性模型到广义线性模型（1）——模型假设篇\n",
    "https://cosx.org/2011/01/how-does-glm-generalize-lm-assumption/\n",
    "\n",
    "从线性模型到广义线性模型 (2)——参数估计、假设检验\n",
    "https://cosx.org/2011/01/how-does-glm-generalize-lm-fit-and-test/"
   ]
  }
 ],
 "metadata": {
  "kernelspec": {
   "display_name": "Python 3",
   "language": "python",
   "name": "python3"
  },
  "language_info": {
   "codemirror_mode": {
    "name": "ipython",
    "version": 3
   },
   "file_extension": ".py",
   "mimetype": "text/x-python",
   "name": "python",
   "nbconvert_exporter": "python",
   "pygments_lexer": "ipython3",
   "version": "3.7.1"
  }
 },
 "nbformat": 4,
 "nbformat_minor": 2
}
