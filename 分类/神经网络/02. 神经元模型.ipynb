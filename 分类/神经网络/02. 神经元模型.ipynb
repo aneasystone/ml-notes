{
 "cells": [
  {
   "cell_type": "markdown",
   "metadata": {},
   "source": [
    "生物学家在很早的时候就开始研究人体中的 **神经元**（neuron）结构。在人体内，神经元的结构形式并非是完全相同的，但是无论结构形式如何，神经元都是由一些基本的成份组成的，主要包括三大部分：**细胞体**，**树突**（dendrites） 和 **轴突**（axon）。一个神经元通常具有多个 **树突**，用来接受传入信号，说白了就是接受其他神经元传递过来的化学物质，这些化学物质汇聚在细胞体内可以改变神经元的电位，如果电位超过一个阈值，那么神经元被激活，并通过 **轴突** 传递信息到其他神经元。如下图所示：\n",
    "\n",
    "![](../../images/neutron.jpg)\n",
    "\n",
    "### 参考\n",
    "\n",
    "1. https://www.cnblogs.com/subconscious/p/5058741.html\n",
    "1. https://www.zhihu.com/question/22553761/answer/36429105\n",
    "1. http://www.ruanyifeng.com/blog/2017/07/neural-network.html\n",
    "1. http://fitzeng.org/2018/02/19/MLNeuralNetwork/"
   ]
  }
 ],
 "metadata": {
  "kernelspec": {
   "display_name": "Python 3",
   "language": "python",
   "name": "python3"
  },
  "language_info": {
   "codemirror_mode": {
    "name": "ipython",
    "version": 3
   },
   "file_extension": ".py",
   "mimetype": "text/x-python",
   "name": "python",
   "nbconvert_exporter": "python",
   "pygments_lexer": "ipython3",
   "version": "3.7.1"
  }
 },
 "nbformat": 4,
 "nbformat_minor": 2
}
