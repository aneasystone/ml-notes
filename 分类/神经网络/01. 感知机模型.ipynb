{
 "cells": [
  {
   "cell_type": "markdown",
   "metadata": {},
   "source": [
    "**感知机**（perceptron）是一种非常简单的用于二分类的线性模型，对于线性可分的样本，它对应于输入空间中将样本划分为正负两类的划分超平面，感知机模型在 1957 年由 Rosenblatt 提出，是神经网络和支持向量机的基础。\n",
    "\n",
    "### 感知机模型\n",
    "\n",
    "### 感知机的损失函数\n",
    "\n",
    "### 使用随机梯度下降训练感知机\n",
    "\n",
    "### 感知机算法的收敛性\n",
    "\n",
    "### 感知机算法的对偶形式\n",
    "\n",
    "### 感知机算法存在的问题"
   ]
  }
 ],
 "metadata": {
  "kernelspec": {
   "display_name": "Python 3",
   "language": "python",
   "name": "python3"
  },
  "language_info": {
   "codemirror_mode": {
    "name": "ipython",
    "version": 3
   },
   "file_extension": ".py",
   "mimetype": "text/x-python",
   "name": "python",
   "nbconvert_exporter": "python",
   "pygments_lexer": "ipython3",
   "version": "3.7.1"
  }
 },
 "nbformat": 4,
 "nbformat_minor": 2
}
