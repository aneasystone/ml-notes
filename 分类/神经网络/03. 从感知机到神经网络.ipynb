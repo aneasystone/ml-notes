{
 "cells": [
  {
   "cell_type": "markdown",
   "metadata": {},
   "source": [
    "通过前面的学习，我们掌握了感知机模型和神经元模型，我们稍微对比一下。\n",
    "\n",
    "感知机模型如下：\n",
    "\n",
    "$$\n",
    "y = sign(w^Tx + b)\n",
    "$$\n",
    "\n",
    "其中 $sign(z)$ 为符号函数，也就是阶跃函数。\n",
    "\n",
    "神经元模型如下：\n",
    "\n",
    "$$\n",
    "y = f(\\sum_{i=1}^n w_i x_i - \\theta)\n",
    "$$\n",
    "\n",
    "其中 $f(z)$ 可以是 $sign(z)$ 或 $sigmoid(z)$ 或其他类型的激活函数。\n",
    "\n",
    "可以看出两个模型实际上是一样的，可以说感知机就是一个简化版神经元。"
   ]
  }
 ],
 "metadata": {
  "kernelspec": {
   "display_name": "Python 3",
   "language": "python",
   "name": "python3"
  },
  "language_info": {
   "codemirror_mode": {
    "name": "ipython",
    "version": 3
   },
   "file_extension": ".py",
   "mimetype": "text/x-python",
   "name": "python",
   "nbconvert_exporter": "python",
   "pygments_lexer": "ipython3",
   "version": "3.7.1"
  }
 },
 "nbformat": 4,
 "nbformat_minor": 2
}
