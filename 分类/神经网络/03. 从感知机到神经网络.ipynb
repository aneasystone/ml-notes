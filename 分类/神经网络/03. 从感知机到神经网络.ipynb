{
 "cells": [
  {
   "cell_type": "markdown",
   "metadata": {},
   "source": [
    "通过前面的学习，我们掌握了感知机模型和神经元模型，我们稍微对比一下。\n",
    "\n",
    "感知机模型如下：\n",
    "\n",
    "$$\n",
    "y = sign(w^Tx + b)\n",
    "$$\n",
    "\n",
    "其中 $sign(z)$ 为符号函数，也就是阶跃函数。\n",
    "\n",
    "神经元模型如下：\n",
    "\n",
    "$$\n",
    "y = f(\\sum_{i=1}^n w_i x_i - \\theta)\n",
    "$$\n",
    "\n",
    "其中 $f(z)$ 可以是 $sign(z)$ 或 $sigmoid(z)$ 或其他类型的激活函数。\n",
    "\n",
    "可以看出两个模型实际上是一样的，可以说感知机就是一个简化版神经元，如下所示：\n",
    "\n",
    "<img src=\"../../images/neutron-1.jpg\" width=\"300px\" />\n",
    "\n",
    "这实际上是一个两层神经网络，左边的输入节点被称为 **输入层**，右边的输出节点被称为 **输出层**。要注意的是，有些文献会根据网络中计算节点的层数来命名，在上面的模型中，左边的输入层只负责传输数据，并没有进行计算，只有右边的输出层进行了计算，所以被称为单层神经网络。"
   ]
  },
  {
   "cell_type": "markdown",
   "metadata": {},
   "source": [
    "我们用一个例子来展示下具体的神经元模型，譬如我们要解决下面的三种分类问题（AND、OR、NOT）：\n",
    "\n",
    "<div>\n",
    "    <img src=\"../../images/and.png\" style=\"display:inline\" width=\"300px\" />\n",
    "    <img src=\"../../images/or.png\" style=\"display:inline\" width=\"300px\" />\n",
    "    <img src=\"../../images/not.png\" style=\"display:inline\" width=\"300px\" />\n",
    "</div>\n",
    "\n",
    "很显然这三个问题都是线性可分的，我们可以构造出如下的神经元模型：\n",
    "\n",
    "<img src=\"../../images/neutron-and-or-not.png\" width=\"800px\" />\n",
    "\n",
    "但是如果我们要处理下面的异或问题，这是一个线性不可分问题，单层的神经网络就无法解决了。\n",
    "\n",
    "<img src=\"../../images/xor.png\" width=\"300px\" />"
   ]
  }
 ],
 "metadata": {
  "kernelspec": {
   "display_name": "Python 3",
   "language": "python",
   "name": "python3"
  },
  "language_info": {
   "codemirror_mode": {
    "name": "ipython",
    "version": 3
   },
   "file_extension": ".py",
   "mimetype": "text/x-python",
   "name": "python",
   "nbconvert_exporter": "python",
   "pygments_lexer": "ipython3",
   "version": "3.7.1"
  }
 },
 "nbformat": 4,
 "nbformat_minor": 2
}
