{
 "cells": [
  {
   "cell_type": "markdown",
   "metadata": {},
   "source": [
    "TODO\n",
    "\n",
    "### 参考\n",
    "\n",
    "1. https://www.cnblogs.com/subconscious/p/5058741.html\n",
    "1. https://www.zhihu.com/question/22553761/answer/36429105\n",
    "1. http://www.ruanyifeng.com/blog/2017/07/neural-network.html\n",
    "1. http://fitzeng.org/2018/02/19/MLNeuralNetwork/"
   ]
  }
 ],
 "metadata": {
  "kernelspec": {
   "display_name": "Python 3",
   "language": "python",
   "name": "python3"
  },
  "language_info": {
   "codemirror_mode": {
    "name": "ipython",
    "version": 3
   },
   "file_extension": ".py",
   "mimetype": "text/x-python",
   "name": "python",
   "nbconvert_exporter": "python",
   "pygments_lexer": "ipython3",
   "version": "3.7.1"
  }
 },
 "nbformat": 4,
 "nbformat_minor": 2
}
