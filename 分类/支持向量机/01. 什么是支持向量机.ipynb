{
 "cells": [
  {
   "cell_type": "markdown",
   "metadata": {},
   "source": [
    "**支持向量机**（Support Vector Machine，简称 SVM）和逻辑回归、朴素贝叶斯一样，也是一种有监督分类算法，它的目标是通过最大化训练数据集的间隔找到一个最优划分超平面。\n",
    "\n",
    "那么什么是支持向量？什么是间隔？什么是最优划分超平面呢？\n",
    "\n",
    "给定如下图所示的训练样本，很显然这是二维平面上的一个二分类问题，一个最基本的分类想法是能不能找一条直线把两个样本类别划分成两个部分？这条直线有点像我们之前在逻辑回归中介绍的 **决策边界**，而在支持向量机中，我们称之为 **划分超平面**。但是能将样本分开的划分超平面可能会有多个，就像下图这样，到底哪个才是最好的呢？\n",
    "\n",
    "![](../../images/svm-1.jpg)\n",
    "\n",
    "直观上看，我们应该去找位于这个类别正中间的划分超平面，尽可能的远离所有类别的数据点，这样它对训练样本的噪声影响最小，容忍性最好，也就是说，基于这个划分超平面所产生的分类结果是最鲁棒的，泛化能力最强。这个超平面叫做 **最优划分超平面**。\n",
    "\n",
    "那么如何去找最优划分超平面呢？这就要引出间隔的概念。我们知道平面可以用线性方程来表示，所以划分超平面可以写成：\n",
    "\n",
    "$$\n",
    "w^Tx + b = 0\n",
    "$$\n",
    "\n",
    "样本空间中的任意点到划分超平面的距离为：\n",
    "\n",
    "$$\n",
    "r = \\frac{|w^Tx + b|}{\\|w\\|}\n",
    "$$\n",
    "\n",
    "// TODO\n",
    "\n",
    "![](../../images/svm-2.jpg)"
   ]
  }
 ],
 "metadata": {
  "kernelspec": {
   "display_name": "Python 3",
   "language": "python",
   "name": "python3"
  },
  "language_info": {
   "codemirror_mode": {
    "name": "ipython",
    "version": 3
   },
   "file_extension": ".py",
   "mimetype": "text/x-python",
   "name": "python",
   "nbconvert_exporter": "python",
   "pygments_lexer": "ipython3",
   "version": "3.7.1"
  }
 },
 "nbformat": 4,
 "nbformat_minor": 2
}
