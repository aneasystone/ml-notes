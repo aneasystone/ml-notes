{
 "cells": [
  {
   "cell_type": "markdown",
   "metadata": {},
   "source": [
    "上一节我们学习了支持向量机的优化目标为：\n",
    "\n",
    "$$\n",
    "\\mathop \\min_{w,b} \\frac{1}{2}\\|w\\|^2 s.t. y_i(w^Tx_i + b) \\ge 1, i = 1,2,\\dots,n\n",
    "$$\n",
    "\n",
    "这是一个 **凸二次规划**（convex quadratic programming） 问题，可以通过 **拉格朗日乘子法** 将其转换为对偶形式。"
   ]
  }
 ],
 "metadata": {
  "kernelspec": {
   "display_name": "Python 3",
   "language": "python",
   "name": "python3"
  },
  "language_info": {
   "codemirror_mode": {
    "name": "ipython",
    "version": 3
   },
   "file_extension": ".py",
   "mimetype": "text/x-python",
   "name": "python",
   "nbconvert_exporter": "python",
   "pygments_lexer": "ipython3",
   "version": "3.7.1"
  }
 },
 "nbformat": 4,
 "nbformat_minor": 2
}
