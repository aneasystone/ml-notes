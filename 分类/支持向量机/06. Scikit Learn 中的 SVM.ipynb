{
 "cells": [
  {
   "cell_type": "markdown",
   "metadata": {},
   "source": [
    "这一节我们使用 sklearn 中提供的 SVM 方法来解决一个简单的二分类问题。sklearn 自带了一个鸢尾花的数据集，这个数据集是 Fisher 在 1936 年收集整理的，是一类多重变量分析的数据集，数据集共包含 150 条数据记录，分为 3 类，每类 50 个数据，每条数据包含 4 个属性。可通过花萼长度，花萼宽度，花瓣长度，花瓣宽度 4 个属性预测鸢尾花卉属于（Setosa，Versicolour，Virginica）三个种类中的哪一类。\n",
    "\n",
    "由于我们想使用 SVM 解决二分类问题，所以这里我们只取鸢尾花的两种类型，每种类型只取两个特征："
   ]
  },
  {
   "cell_type": "code",
   "execution_count": 4,
   "metadata": {},
   "outputs": [
    {
     "data": {
      "image/png": "[encoded data removed]",
      "text/plain": [
       "<Figure size 432x288 with 1 Axes>"
      ]
     },
     "metadata": {
      "needs_background": "light"
     },
     "output_type": "display_data"
    }
   ],
   "source": [
    "import numpy as np\n",
    "import matplotlib.pyplot as plt\n",
    "from sklearn import datasets\n",
    "\n",
    "iris = datasets.load_iris();\n",
    "\n",
    "X = iris.data\n",
    "y = iris.target\n",
    "\n",
    "X = X[y < 2, :2]\n",
    "y = y[y < 2]\n",
    "\n",
    "plt.scatter(X[y == 0, 0], X[y == 0, 1], color='red')\n",
    "plt.scatter(X[y == 1, 0], X[y == 1, 1], color='blue')\n",
    "plt.show()"
   ]
  },
  {
   "cell_type": "markdown",
   "metadata": {},
   "source": [
    "图中可以看出数据非常明显的分为两类。通过 sklearn 中提供的 `LinearSVC` 类，可以非常方便的训练出模型，这里的参数 C 取一个很大的数字，这样得到的接近于硬间隔支持向量机。我们输入两个测试数据：`(6,2)` 和 `(4,3)` 得到的结果正好是 1 和 0。"
   ]
  },
  {
   "cell_type": "code",
   "execution_count": 5,
   "metadata": {},
   "outputs": [
    {
     "name": "stdout",
     "output_type": "stream",
     "text": [
      "[1 0]\n"
     ]
    },
    {
     "name": "stderr",
     "output_type": "stream",
     "text": [
      "/home/aneasystone/anaconda3/lib/python3.7/site-packages/sklearn/svm/base.py:922: ConvergenceWarning: Liblinear failed to converge, increase the number of iterations.\n",
      "  \"the number of iterations.\", ConvergenceWarning)\n"
     ]
    }
   ],
   "source": [
    "from sklearn.svm import LinearSVC\n",
    "\n",
    "svc = LinearSVC(C=1e9)\n",
    "svc.fit(X, y)\n",
    "results = svc.predict([[6,2], [4, 3]])\n",
    "print(results)"
   ]
  },
  {
   "cell_type": "markdown",
   "metadata": {},
   "source": [
    "不过这里我们看到了警告信息：`Liblinear failed to converge, increase the number of iterations`，这句话的意思是算法没有达到收敛，需要增加迭代次数，sklearn 默认的迭代次数是 1000，我们将其加到 40000 才收敛："
   ]
  },
  {
   "cell_type": "code",
   "execution_count": 6,
   "metadata": {},
   "outputs": [
    {
     "name": "stdout",
     "output_type": "stream",
     "text": [
      "[1 0]\n"
     ]
    }
   ],
   "source": [
    "from sklearn.svm import LinearSVC\n",
    "\n",
    "svc = LinearSVC(C=1e9, max_iter=40000)\n",
    "svc.fit(X, y)\n",
    "results = svc.predict([[6,2], [4, 3]])\n",
    "print(results)"
   ]
  },
  {
   "cell_type": "markdown",
   "metadata": {},
   "source": [
    "迭代次数越多很显然算法性能就越低，解决这个问题的令一个办法是数据归一化，使用 `preprocessing` 模块提供的 `scale` 方法将数据移到靠近中心的位置，让其符合正态分布，可以看出不用增加迭代次数算法也可以很快收敛："
   ]
  },
  {
   "cell_type": "code",
   "execution_count": 7,
   "metadata": {},
   "outputs": [
    {
     "name": "stdout",
     "output_type": "stream",
     "text": [
      "[1 0]\n"
     ]
    },
    {
     "data": {
      "image/png": "[encoded data removed]",
      "text/plain": [
       "<Figure size 432x288 with 1 Axes>"
      ]
     },
     "metadata": {
      "needs_background": "light"
     },
     "output_type": "display_data"
    }
   ],
   "source": [
    "from sklearn.svm import LinearSVC\n",
    "from sklearn import preprocessing\n",
    "\n",
    "X_scaled = preprocessing.scale(X)\n",
    "svc = LinearSVC(C=1e9)\n",
    "svc.fit(X_scaled, y)\n",
    "results = svc.predict(preprocessing.scale([[6,2], [4, 3]]))\n",
    "print(results)\n",
    "\n",
    "plt.scatter(X_scaled[y == 0, 0], X_scaled[y == 0, 1], color='red')\n",
    "plt.scatter(X_scaled[y == 1, 0], X_scaled[y == 1, 1], color='blue')\n",
    "plt.show()"
   ]
  },
  {
   "cell_type": "markdown",
   "metadata": {},
   "source": [
    "最后我们在图中画出划分超平面，也就是决策边界，决策边界为一条直线：\n",
    "\n",
    "$$\n",
    "w_1x + w_2y + b = 0\n",
    "$$\n",
    "\n",
    "这里的 $w$ 为特征系数，可以通过 `svc.coef_` 取得，$b$ 为截距，可以通过 `intercept_` 取得："
   ]
  },
  {
   "cell_type": "code",
   "execution_count": 8,
   "metadata": {},
   "outputs": [
    {
     "name": "stdout",
     "output_type": "stream",
     "text": [
      "w =  [[ 4.03244052 -2.50699934]]\n",
      "b =  [0.92733476]\n"
     ]
    }
   ],
   "source": [
    "print('w = ', svc.coef_)\n",
    "print('b = ', svc.intercept_)"
   ]
  },
  {
   "cell_type": "markdown",
   "metadata": {},
   "source": [
    "从而得到直线方程：\n",
    "\n",
    "$$\n",
    "y = -\\frac{w_1x+b}{w_2}\n",
    "$$"
   ]
  },
  {
   "cell_type": "code",
   "execution_count": 15,
   "metadata": {},
   "outputs": [
    {
     "data": {
      "image/png": "[encoded data removed]",
      "text/plain": [
       "<Figure size 432x288 with 1 Axes>"
      ]
     },
     "metadata": {
      "needs_background": "light"
     },
     "output_type": "display_data"
    }
   ],
   "source": [
    "def plot_svc_decision_boundary(model):\n",
    "    w = model.coef_[0]\n",
    "    b = model.intercept_[0]\n",
    "    x = np.linspace(-3, 3, 200)\n",
    "    y = - (w[0]*x+b) / w[1]\n",
    "    plt.plot(x, y, color='black')\n",
    "\n",
    "plot_svc_decision_boundary(svc)\n",
    "plt.scatter(X_scaled[y == 0, 0], X_scaled[y == 0, 1], color='red')\n",
    "plt.scatter(X_scaled[y == 1, 0], X_scaled[y == 1, 1], color='blue')\n",
    "plt.show()"
   ]
  }
 ],
 "metadata": {
  "kernelspec": {
   "display_name": "Python 3",
   "language": "python",
   "name": "python3"
  },
  "language_info": {
   "codemirror_mode": {
    "name": "ipython",
    "version": 3
   },
   "file_extension": ".py",
   "mimetype": "text/x-python",
   "name": "python",
   "nbconvert_exporter": "python",
   "pygments_lexer": "ipython3",
   "version": "3.7.1"
  }
 },
 "nbformat": 4,
 "nbformat_minor": 2
}
