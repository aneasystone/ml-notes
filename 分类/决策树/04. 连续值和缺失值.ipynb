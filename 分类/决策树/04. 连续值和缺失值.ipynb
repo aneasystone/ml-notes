{
 "cells": [
  {
   "cell_type": "markdown",
   "metadata": {},
   "source": [
    "### 处理连续属性\n",
    "\n",
    "如果某个属性的取值是连续值，不能直接使用连续属性的可取值来对节点进行划分，通常采用 **二分法**（bi-partition）对连续属性进行处理。\n",
    "\n",
    "假设数据集 D 的 a 属性为连续属性，它有 n 个不同的取值，我们将其从小到大排序，得到 $\\{a^1, a^2, ..., a^n\\}$，对每两个相邻的点，我们取其中位点作为候选划分点，这样就得到了 n-1 个候选划分点：\n",
    "\n",
    "$$\n",
    "T_a = \\{ \\frac{a^i + a^{i+1}}{2} | i \\leqslant i \\leqslant n-1 \\}\n",
    "$$\n",
    "\n",
    "我们从中考察每一个划分点，假设划分点为 t，它可以将数据集划分为 $D_t^-$ 和 $D_t^+$，$D_t^-$ 表示属性 a 小于等于 t 的样本集合，$D_t^+$ 表示属性 a 大于 t 的样本集合。使用属性 a 上的划分点 t 对数据集进行划分后的信息熵可以记为：\n",
    "\n",
    "$$\n",
    "Ent(D_{a,t}) = \\frac{|D_t^-|}{|D|} Ent(D_t^-) + \\frac{|D_t^+|}{|D|} Ent(D_t^+)\n",
    "$$\n",
    "\n",
    "相应的信息增益为：\n",
    "\n",
    "$$\n",
    "Gain(D,a,t) = Ent(D) - Ent(D_{a,t})\n",
    "$$\n",
    "\n",
    "可以看出 t 的取值不同，划分后的信息熵也不同，信息增益自然也不同，我们希望划分后的信息增益越大越好，所以可以把信息增益最大值作为连续属性 a 的信息增益。\n",
    "\n",
    "$$\n",
    "Gain(D,a) = \\mathop \\max_{t \\in T_a} Gain(D,a,t)\n",
    "$$\n",
    "\n",
    "处理连续属性和处理离散属性的根本原理是一样的，都是选择信息增益最大的划分属性对数据集进行划分，不过在计算连续属性的信息增益时，还要计算合适的划分点。另外，还要注意一点，离散属性一当被选为划分属性，后代节点就不能再使用该属性进行划分，而连续属性却可以，譬如在父节点上使用了 $a \\leqslant 10$，子节点上还可以进一步使用 $a \\leqslant 5$。\n",
    "\n",
    "### 处理缺失属性"
   ]
  }
 ],
 "metadata": {
  "kernelspec": {
   "display_name": "Python 3",
   "language": "python",
   "name": "python3"
  },
  "language_info": {
   "codemirror_mode": {
    "name": "ipython",
    "version": 3
   },
   "file_extension": ".py",
   "mimetype": "text/x-python",
   "name": "python",
   "nbconvert_exporter": "python",
   "pygments_lexer": "ipython3",
   "version": "3.7.1"
  }
 },
 "nbformat": 4,
 "nbformat_minor": 2
}
