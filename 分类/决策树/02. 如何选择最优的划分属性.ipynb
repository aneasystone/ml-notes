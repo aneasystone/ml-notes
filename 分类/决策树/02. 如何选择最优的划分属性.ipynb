{
 "cells": [
  {
   "cell_type": "markdown",
   "metadata": {},
   "source": [
    "前面提到，要构建决策树，最关键的问题是如何找到最优的划分属性，常见的划分方法有三种：\n",
    "\n",
    "* **信息增益**（information gain），代表算法为 **ID3**\n",
    "* **增益率**（gain ratio），代表算法为 **C4.5**\n",
    "* **基尼指数**（Gini index），代表算法为 **CART**"
   ]
  },
  {
   "cell_type": "markdown",
   "metadata": {},
   "source": [
    "### 信息增益\n",
    "\n",
    "$$\n",
    "Gain(D, a) = Ent(D) - \\sum_{v=1}^{V} \\frac{\\left| D^v \\right|}{\\left| D \\right|} Ent(D^v)\n",
    "$$\n",
    "\n",
    "其中，$Ent(D)$ 叫做**信息熵**（information entropy），它的定义如下：\n",
    "\n",
    "$$\n",
    "Ent(D) = - \\sum_{k=1}^{\\left| \\mathcal{Y} \\right|} p_k log_2p_k\n",
    "$$"
   ]
  },
  {
   "cell_type": "markdown",
   "metadata": {},
   "source": [
    "### 增益率\n",
    "\n",
    "$$\n",
    "Gain\\_ratio(D, a) = \\frac{Gain(D, a)}{IV(a)}\n",
    "$$\n",
    "\n",
    "其中，$IV(a)$ 的定义如下：\n",
    "\n",
    "$$\n",
    "IV(a) = - \\sum_{v=1}^{V} \\frac{\\left| D^v \\right|}{\\left| D \\right|} log_2 \\frac{\\left| D^v \\right|}{\\left| D \\right|}\n",
    "$$"
   ]
  },
  {
   "cell_type": "markdown",
   "metadata": {},
   "source": [
    "### 基尼指数\n",
    "\n",
    "$$\n",
    "Gini\\_index(D, a) = \\sum_{v=1}{V} \\frac{\\left| D^v \\right|}{\\left| D \\right|} Gini(D^v)\n",
    "$$\n",
    "\n",
    "其中，$Gini(D)$ 表示数据集 D 的基尼值，定义如下：\n",
    "\n",
    "$$\n",
    "Gini(D) = \\sum_{k=1}^{\\left| \\mathcal{Y} \\right|} \\sum_{k' \\ne k} p_k p_{k'} \n",
    "= 1 - \\sum_{k=1}^{\\left| \\mathcal{Y} \\right|} p_k^2\n",
    "$$"
   ]
  }
 ],
 "metadata": {
  "kernelspec": {
   "display_name": "Python 3",
   "language": "python",
   "name": "python3"
  },
  "language_info": {
   "codemirror_mode": {
    "name": "ipython",
    "version": 3
   },
   "file_extension": ".py",
   "mimetype": "text/x-python",
   "name": "python",
   "nbconvert_exporter": "python",
   "pygments_lexer": "ipython3",
   "version": "3.7.1"
  }
 },
 "nbformat": 4,
 "nbformat_minor": 2
}
