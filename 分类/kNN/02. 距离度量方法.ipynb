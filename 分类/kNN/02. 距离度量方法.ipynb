{
 "cells": [
  {
   "cell_type": "markdown",
   "metadata": {},
   "source": [
    "在前一节中，我们学习了 kNN 算法就是要找到距离输入样本最近的 k 个样本，然后再通过多数表决规则进行分类。那么这里的距离应该如何定义？\n",
    "\n",
    "我们在中学时就学过怎么计算平面几何中（二维空间）两点之间的距离：\n",
    "\n",
    "<img src=\"../../images/l2-distance.gif\" width=\"400px\" />\n",
    "\n",
    "如上图所示，点 $P_1(x_1, y_1)$ 和 点 $P_2(x_2, y_2)$ 之间的距离可以定义为：\n",
    "\n",
    "$$\n",
    "d = \\sqrt{(x_1-x_2)^2 + (y_1-y_2)^2}\n",
    "$$\n",
    "\n",
    "在立体几何中（三维空间）两点之间的距离为：\n",
    "\n",
    "$$\n",
    "d = \\sqrt{(x_1-x_2)^2 + (y_1-y_2)^2 + (z_1-z_2)^2}\n",
    "$$\n",
    "\n",
    "这其实就是 **欧氏距离**（Euclidean Distance），它的更一般形式可以扩展到 n 维空间：\n",
    "\n",
    "$$\n",
    "d = \\sqrt{\\sum_{k=1}^n (x_{1k} - x_{2k})^2}\n",
    "$$\n",
    "\n",
    "这是最基本的距离度量方法，除此之外，这一节还将介绍几种其他的距离度量方法。\n",
    "\n",
    "### 曼哈顿距离\n",
    "\n",
    "### 切比雪夫距离\n",
    "\n",
    "### 闵可夫斯基距离\n",
    "\n",
    "### 马氏距离\n",
    "\n",
    "### 巴氏距离\n",
    "\n",
    "### 余弦距离\n",
    "\n",
    "### 汉明距离\n",
    "\n",
    "### 杰卡德距离\n",
    "\n",
    "### 相关距离\n",
    "\n",
    "### 信息熵"
   ]
  }
 ],
 "metadata": {
  "kernelspec": {
   "display_name": "Python 3",
   "language": "python",
   "name": "python3"
  },
  "language_info": {
   "codemirror_mode": {
    "name": "ipython",
    "version": 3
   },
   "file_extension": ".py",
   "mimetype": "text/x-python",
   "name": "python",
   "nbconvert_exporter": "python",
   "pygments_lexer": "ipython3",
   "version": "3.7.1"
  }
 },
 "nbformat": 4,
 "nbformat_minor": 2
}
