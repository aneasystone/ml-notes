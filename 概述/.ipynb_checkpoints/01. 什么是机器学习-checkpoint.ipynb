{
 "cells": [
  {
   "cell_type": "markdown",
   "metadata": {},
   "source": [
    "### 机器学习定义\n",
    "\n",
    "* 非正式定义：在不直接针对问题进行编程的情况下，赋予计算机学习能力的一个研究领域。（1959年，出自 Arthur Samuel，他被誉为**机器学习之父**）\n",
    "* 正式定义：对于一个计算机程序来讲，给他一个任务 T 和一个性能测量方法 P，如果在经验 E 的影响下 P 对 T 的测量结果得到了改进，那么就说该程序从 E 中得到了学习。（1998年，出自 Tom Mitchell《Machine Leaming》）"
   ]
  }
 ],
 "metadata": {
  "kernelspec": {
   "display_name": "Python 3",
   "language": "python",
   "name": "python3"
  },
  "language_info": {
   "codemirror_mode": {
    "name": "ipython",
    "version": 3
   },
   "file_extension": ".py",
   "mimetype": "text/x-python",
   "name": "python",
   "nbconvert_exporter": "python",
   "pygments_lexer": "ipython3",
   "version": "3.7.1"
  }
 },
 "nbformat": 4,
 "nbformat_minor": 2
}
