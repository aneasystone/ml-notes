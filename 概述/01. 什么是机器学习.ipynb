{
 "cells": [
  {
   "cell_type": "markdown",
   "metadata": {},
   "source": [
    "### 机器学习定义\n",
    "\n",
    "* 非正式定义：在不直接针对问题进行编程的情况下，赋予计算机学习能力的一个研究领域。（1959年，出自 Arthur Samuel，他被誉为**机器学习之父**）\n",
    "* 正式定义：对于一个计算机程序来讲，给他一个任务 T 和一个性能测量方法 P，如果在经验 E 的影响下 P 对 T 的测量结果得到了改进，那么就说该程序从 E 中得到了学习。（1998年，出自 Tom Mitchell《Machine Leaming》）\n",
    "\n",
    "### 人工智能、深度学习和机器学习\n",
    "\n",
    "这三者的关系如下图所示：\n",
    "\n",
    "![](../images/ai-ml-dl.jpg)\n",
    "\n",
    "**人工智能**（Artificial Intelligence，简称 AI）是用于研究、模拟及扩展人的智能应用科学，涉及机器人、语音识别、图像识别、自然语言处理等。它的研究横跨多门学科，如计算机、数学、生物、语言、声音、视觉甚至心理学和哲学。AI 的核心是做到感知、推断、行动及根据经验值进行调整（sense, reason, act and adapt），即类似人类的智慧体智能学习提升。\n",
    "\n",
    "**深度学习**（Deep Learning）泛指深度神经网络学习，如卷积神经网络（Convolutional Neural Network，CNN）等，它把普通的神经网络从几层扩展到更多的层，通过大数据以及近些年发展的强大运算能力（比如 GPU）获取更精准的模型，广泛应用在图像和视频识别等领域。"
   ]
  }
 ],
 "metadata": {
  "kernelspec": {
   "display_name": "Python 3",
   "language": "python",
   "name": "python3"
  },
  "language_info": {
   "codemirror_mode": {
    "name": "ipython",
    "version": 3
   },
   "file_extension": ".py",
   "mimetype": "text/x-python",
   "name": "python",
   "nbconvert_exporter": "python",
   "pygments_lexer": "ipython3",
   "version": "3.7.1"
  }
 },
 "nbformat": 4,
 "nbformat_minor": 2
}
