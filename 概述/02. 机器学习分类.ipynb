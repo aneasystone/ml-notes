{
 "cells": [
  {
   "cell_type": "markdown",
   "metadata": {},
   "source": [
    "### 机器学习分类\n",
    "\n",
    "* 监督学习（Supervised Learning）\n",
    "  - 回归（regression）\n",
    "  - 分类（classification）\n",
    "* 无监督学习（Unsupervised Learning）\n",
    "  - 聚类（clustering）\n",
    "* 半监督学习（Semi-Supervised Learning）\n",
    "* 强化学习（Reinforcement Learning）\n",
    "* 推荐系统（Recommendation System）\n",
    "* 学习理论（Learning Theory）"
   ]
  }
 ],
 "metadata": {
  "kernelspec": {
   "display_name": "Python 3",
   "language": "python",
   "name": "python3"
  },
  "language_info": {
   "codemirror_mode": {
    "name": "ipython",
    "version": 3
   },
   "file_extension": ".py",
   "mimetype": "text/x-python",
   "name": "python",
   "nbconvert_exporter": "python",
   "pygments_lexer": "ipython3",
   "version": "3.7.1"
  }
 },
 "nbformat": 4,
 "nbformat_minor": 2
}
