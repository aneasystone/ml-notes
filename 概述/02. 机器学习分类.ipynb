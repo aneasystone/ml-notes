{
 "cells": [
  {
   "cell_type": "markdown",
   "metadata": {},
   "source": [
    "### 机器学习分类\n",
    "\n",
    "机器学习根据处理数据的种类，可以分为：监督学习、无监督学习、半监督学习、强化学习等。\n",
    "\n",
    "**监督学习**（Supervised Learning）通常对有标签的训练样本特征进行学习，找到特征与标签之间的关系（函数），从而当训练结束，输入无标签的数据时，可以利用已经找出的关系分析出数据标签。如果学习的输出值是连续的，叫做**回归**（regression），如果是离散的，叫做**分类**（classification）。常用的监督学习方法有：神经网络、决策树、贝叶斯分类器、支持向量机等。\n",
    "\n",
    "**无监督学习**（Unsupervised Learning）指的是学习的数据没有标签，它通过学习算法找到数据内部的规律和性质，从而对数据进行分组，常见的任务有 **聚类**（clustering）、**异常检测**（anomaly detection） 和 **降维**（dimension reduction）。如果数据样本介于无标记及部分标记之间，这种机器学习被称为**半监督学习**（Semi-Supervised Learning）。\n",
    "\n",
    "强化学习（Reinforcement Learning）\n",
    "\n",
    "推荐系统（Recommendation System）\n",
    "\n",
    "学习理论（Learning Theory）"
   ]
  }
 ],
 "metadata": {
  "kernelspec": {
   "display_name": "Python 3",
   "language": "python",
   "name": "python3"
  },
  "language_info": {
   "codemirror_mode": {
    "name": "ipython",
    "version": 3
   },
   "file_extension": ".py",
   "mimetype": "text/x-python",
   "name": "python",
   "nbconvert_exporter": "python",
   "pygments_lexer": "ipython3",
   "version": "3.7.1"
  }
 },
 "nbformat": 4,
 "nbformat_minor": 2
}
