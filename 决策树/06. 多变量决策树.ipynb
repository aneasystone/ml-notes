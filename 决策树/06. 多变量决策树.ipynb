{
 "cells": [
  {
   "cell_type": "markdown",
   "metadata": {},
   "source": [
    "决策树的决策边界有一个很明显的特点：**轴平行**（axis-parallel），也就是说它的分类边界由若干个与坐标轴平行的分段组成，比如下图中的决策树和相应的决策边界：\n",
    "\n",
    "<img src=\"../images/decision-tree-axis-parallel.png\" width=\"400px\" />\n",
    "\n",
    "如果决策边界不是轴平行的，而是使用斜的划分边界，不仅模型会简单得多，而且泛化性能也能得到提高。\n",
    "\n",
    "<img src=\"../images/decision-tree-multi-variate.png\" width=\"400px\" />"
   ]
  }
 ],
 "metadata": {
  "kernelspec": {
   "display_name": "Python 3",
   "language": "python",
   "name": "python3"
  },
  "language_info": {
   "codemirror_mode": {
    "name": "ipython",
    "version": 3
   },
   "file_extension": ".py",
   "mimetype": "text/x-python",
   "name": "python",
   "nbconvert_exporter": "python",
   "pygments_lexer": "ipython3",
   "version": "3.7.1"
  }
 },
 "nbformat": 4,
 "nbformat_minor": 2
}
