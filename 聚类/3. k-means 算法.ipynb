{
 "cells": [
  {
   "cell_type": "markdown",
   "metadata": {},
   "source": [
    "**k均值**（k-means）算法最初由 MacQueen 在 1967 年提出，是最著名的原型聚类算法之一。假设样本集被划分为 k 类 $\\{C_1, C_2, \\dots, C_k\\}$，我们可以计算出每个类的均值向量，也就是类的中心位置：\n",
    "\n",
    "$$\n",
    "\\mu_i = \\frac{\\sum_{x \\in C_i}x}{|C_i|}\n",
    "$$\n",
    "\n",
    "得到每个类的均值向量后，可以计算出每个样本到均值向量的平方误差之和：\n",
    "\n",
    "$$\n",
    "E(C_i) = \\sum_{x \\in C_i} \\|x-\\mu_i\\|^2_2\n",
    "$$\n",
    "\n",
    "将 k 个类的平方误差之和累加起来，就是 k 均值聚类算法的损失函数：\n",
    "\n",
    "$$\n",
    "E(C) = \\sum_{i=1}^k E(C_i)\n",
    "$$\n",
    "\n",
    "函数 $E(C)$ 也称为能量，它表示簇内样本围绕簇均值向量的紧密程度，E 值越小，表示簇内样本相似度越高，k 均值算法就是试图最小化该函数。不过要计算该函数的最小值，必须计算出样本集所有可能的簇划分，这是一个 NP 难问题，因此 k 均值算法采用贪心策略，通过迭代优化来近似求解。\n",
    "\n",
    "k 均值算法流程如下：\n",
    "\n",
    "* 从样本集 D 中随机选择 k 个样本作为初始簇，每个样本的值就是该簇的均值向量\n",
    "* 计算每个样本到均值向量的距离，选择距离最近的均值向量将每个样本划分到相应的簇里\n",
    "* 根据每个簇里的样本，重新计算每个簇的均值向量\n",
    "* 不断重复上述过程，直到迭代收敛或达到停止条件\n",
    "\n",
    "k 均值聚类算法的时间复杂度是 O(mnk)，其中 m 是样本维数，n 是样本个数，k 是类别个数。"
   ]
  }
 ],
 "metadata": {
  "kernelspec": {
   "display_name": "Python 3",
   "language": "python",
   "name": "python3"
  },
  "language_info": {
   "codemirror_mode": {
    "name": "ipython",
    "version": 3
   },
   "file_extension": ".py",
   "mimetype": "text/x-python",
   "name": "python",
   "nbconvert_exporter": "python",
   "pygments_lexer": "ipython3",
   "version": "3.7.1"
  }
 },
 "nbformat": 4,
 "nbformat_minor": 2
}
