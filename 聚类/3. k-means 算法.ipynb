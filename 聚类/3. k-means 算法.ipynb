{
 "cells": [
  {
   "cell_type": "markdown",
   "metadata": {},
   "source": [
    "**k均值**（k-means）算法最初由 MacQueen 在 1967 年提出，是最著名的原型聚类算法之一。假设样本集被划分为 k 类 $\\{C_1, C_2, \\dots, C_k\\}$，我们可以计算出每个类的均值向量，也就是类的中心位置：\n",
    "\n",
    "$$\n",
    "\\mu_i = \\frac{\\sum_{x \\in C_i}x}{|C_i|}\n",
    "$$\n",
    "\n",
    "得到每个类的均值向量后，可以计算出每个样本到均值向量的平方误差之和：\n",
    "\n",
    "$$\n",
    "E_i = \\sum_{x \\in C_i} \\|x-\\mu_i\\|^2_2\n",
    "$$\n",
    "\n",
    "将 k 个类的平方误差之和累加起来，就是 k 均值聚类算法的损失函数：\n",
    "\n",
    "$$\n",
    "E = \\sum_{i=1}^k E_i\n",
    "$$"
   ]
  }
 ],
 "metadata": {
  "kernelspec": {
   "display_name": "Python 3",
   "language": "python",
   "name": "python3"
  },
  "language_info": {
   "codemirror_mode": {
    "name": "ipython",
    "version": 3
   },
   "file_extension": ".py",
   "mimetype": "text/x-python",
   "name": "python",
   "nbconvert_exporter": "python",
   "pygments_lexer": "ipython3",
   "version": "3.7.1"
  }
 },
 "nbformat": 4,
 "nbformat_minor": 2
}
