{
 "cells": [
  {
   "cell_type": "markdown",
   "metadata": {},
   "source": [
    "**聚类**（clustering） 是一种无监督学习算法（unsupervised learning），训练样本的标记信息通常是未知的，它试图对无标记的训练样本进行学习，找到数据的内在性质和规律，将数据集划分成若干个通常是不相交的子集，这些子集被称为 **簇**（cluster）。通过这样的划分，每个簇可能对应一个潜在的概念，这些概念对聚类算法而言事先是未知的，聚类过程仅能自动形成簇结构，簇所对应的概念语义需要由使用者把握和命名。\n",
    "\n",
    "### 聚类算法\n",
    "\n",
    "聚类算法非常多，更新也非常快，这是因为聚类不存在客观标准，给定数据集，总能从某个角度找到以往算法未覆盖的某种标准从而设计出新算法，相对其他机器学习算法而言，聚类的知识还不够系统化。\n",
    "\n",
    "周志华老师的《机器学习》将聚类算法分为三大类：**原型聚类**（prototype-based clustering）、**密度聚类**（density-based clustering）和**层次聚类**（hierarchical clustering）。\n",
    "\n",
    "* 原型聚类假设聚类结构能通过一组原型刻画，它首先对原型进行初始化，然后对原型进行迭代更新求解，其代表算法有 **k 均值算法**（k-means），**学习向量量化算法**（learning vector quantization，简称 LVQ），**高斯混合聚类算法**（mixture-of-Gaussian）。\n",
    "* 密度聚类假设聚类结构能通过样本分布的紧密程度来确定，通常情况下，密度聚类算法从样本密度的角度来考察样本之间的**可连接性**，并基于可连接样本不断扩展聚类簇以获得最终的聚类结果，代表算法为 **DBSCAN**（Density-Based Spatial Clustering of Applications with Noise）。\n",
    "* 层次聚类试图在不同层次对数据集进行划分，从而形成树形的聚类结构，数据集的划分可采用**自底向上**的聚合策略，比如 **AGNES算法**（AGglomerative NESting），也可以采用**自顶向下**的分拆策略，比如 **DIANA算法**（DIvisive ANAlysis）。AGNES 和 DIANA 都不能对已合并或已分拆的聚类簇进行回溯调整，**BIRCH**、**ROCK** 等算法对此进行了改进。\n",
    "\n",
    "### 聚类模型的评估\n",
    "\n",
    "如何评估聚类模型的好坏，也就是如何对聚类的性能进行度量，这也被称为 **有效性指标**（validity index）。直观上看，我们希望同一簇的样本尽可能的彼此相似，不同簇的样本尽可能的不同，也就是我们常说的 “物以类聚”。\n",
    "\n",
    "评估方法一般有两种，一种是将聚类结果和某个**参考模型**（reference model）进行比较，这称作**外部指标**（external index）；另一种是直接考察聚类结果本身，称作**内部指标**（internal index）。\n",
    "\n",
    "常用的外部指标有：**Jaccard 系数**（Jaccard Coefficient，简称 JC）、**FM 指数**（Fowlkes and Mallows Index，简称 FMI）和 **Rand 指数**（Rand Index，简称 RI）。\n",
    "\n",
    "常用的内部指标有：**DB 指数**（Davies-Bouldin Index，简称 DBI）和 **Dunn 指数**（Dunn Index，简称 DI）。"
   ]
  }
 ],
 "metadata": {
  "kernelspec": {
   "display_name": "Python 3",
   "language": "python",
   "name": "python3"
  },
  "language_info": {
   "codemirror_mode": {
    "name": "ipython",
    "version": 3
   },
   "file_extension": ".py",
   "mimetype": "text/x-python",
   "name": "python",
   "nbconvert_exporter": "python",
   "pygments_lexer": "ipython3",
   "version": "3.7.1"
  }
 },
 "nbformat": 4,
 "nbformat_minor": 2
}
