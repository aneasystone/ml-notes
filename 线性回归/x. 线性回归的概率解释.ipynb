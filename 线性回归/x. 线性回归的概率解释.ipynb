{
 "cells": [
  {
   "cell_type": "markdown",
   "metadata": {},
   "source": [
    "线性回归实际上满足下面三个假设：\n",
    "\n",
    "1. 因变量 y 和自变量 x 之间是线性关系；\n",
    "2. 自变量 x 和干扰项 e 相互独立；\n",
    "3. 没有被线性模型捕捉到的随即因素 e 服从正态分布；"
   ]
  }
 ],
 "metadata": {
  "kernelspec": {
   "display_name": "Python 3",
   "language": "python",
   "name": "python3"
  },
  "language_info": {
   "codemirror_mode": {
    "name": "ipython",
    "version": 3
   },
   "file_extension": ".py",
   "mimetype": "text/x-python",
   "name": "python",
   "nbconvert_exporter": "python",
   "pygments_lexer": "ipython3",
   "version": "3.7.1"
  }
 },
 "nbformat": 4,
 "nbformat_minor": 2
}
