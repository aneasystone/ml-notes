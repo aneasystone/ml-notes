{
 "cells": [
  {
   "cell_type": "markdown",
   "metadata": {},
   "source": [
    "### 二次型\n",
    "\n",
    "数域 $K$ 上的一个 **n 元二次型** 是系数在 $K$ 中的 n 个变量的二次齐次多项式，它的一般形式为：\n",
    "\n",
    "$$\n",
    "f(x_1, x_2, \\dots, x_n) = \\sum_{i=1}^n \\sum_{j=1}^n a_{ij}x_ix_j\n",
    "$$\n",
    "\n",
    "其中 $a_{ij} = a_{ji}$。\n",
    "\n",
    "将上式中的系数写成矩阵形式：\n",
    "\n",
    "$$\n",
    "A = \n",
    "\\begin{aligned}{\n",
    "\\left[ \n",
    "\\begin{array}{ccc}\n",
    "a_{11} & a_{12} & \\dots & a_{1n} \\\\\n",
    "a_{21} & a_{22} & \\dots & a_{2n} \\\\\n",
    "\\vdots & \\vdots & \\dots & \\vdots \\\\\n",
    "a_{n1} & a_{n2} & \\dots & a_{nn}\n",
    "\\end{array} \n",
    "\\right ]\n",
    "}\\end{aligned}\n",
    "$$\n",
    "\n",
    "显然 A 是一个对称矩阵，它被称为 **二次型 $f(x_1, x_2, \\dots, x_n)$ 的矩阵**。\n",
    "\n",
    "令 $X = \\left[ \\begin{array}{ccc} x_1 \\\\ x_2 \\\\ \\vdots \\\\ x_n \\end{array} \\right]$，则二次型可以写成下面的形式：\n",
    "\n",
    "$$\n",
    "f(x_1, x_2, \\dots, x_n) = X'AX\n",
    "$$\n",
    "\n",
    "### 正定矩阵\n",
    "\n",
    "如果对于 $R^n$ 中的任意非零列向量 $\\bf{\\alpha}$，都有 $\\bf{\\bf{\\alpha}'A\\bf{\\alpha}} > 0$，那么 n 元实二次型 $X'AX$ 称为 **正定** 的，实对称矩阵 $A$ 被称为 **正定矩阵**（positive definite matrix）。"
   ]
  }
 ],
 "metadata": {
  "kernelspec": {
   "display_name": "Python 3",
   "language": "python",
   "name": "python3"
  },
  "language_info": {
   "codemirror_mode": {
    "name": "ipython",
    "version": 3
   },
   "file_extension": ".py",
   "mimetype": "text/x-python",
   "name": "python",
   "nbconvert_exporter": "python",
   "pygments_lexer": "ipython3",
   "version": "3.7.1"
  }
 },
 "nbformat": 4,
 "nbformat_minor": 2
}
