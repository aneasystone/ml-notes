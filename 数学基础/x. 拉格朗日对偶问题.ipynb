{
 "cells": [
  {
   "cell_type": "markdown",
   "metadata": {},
   "source": [
    "可微分的凸函数 $f: \\mathbb{R}^d \\to \\mathbb{R}$ 和 $g: \\mathbb{R}^d \\to \\mathbb{R}^p$ 的约束条件的最小化问题：\n",
    "\n",
    "$$\n",
    "\\mathop{\\min}_{t} f(t), g(t) \\leqslant 0\n",
    "$$\n",
    "\n",
    "可以转换为拉格朗日对偶问题重新定义：\n",
    "\n",
    "$$\n",
    "\\mathop{\\max}_{\\lambda} \\mathop{\\inf}_{t} L(t, \\lambda), \\lambda \\geqslant 0\n",
    "$$\n",
    "\n",
    "其中，$\\lambda$ 称为拉格朗日乘子：\n",
    "\n",
    "$$\n",
    "\\lambda = (\\lambda_1, \\dots, \\lambda_p)^T\n",
    "$$\n",
    "\n",
    "$L(t, \\lambda)$ 称为拉格朗日函数：\n",
    "\n",
    "$$\n",
    "L(t, \\lambda) = f(t) + \\lambda^Tg(t)\n",
    "$$\n",
    "\n",
    "拉格朗日对偶问题的 t 的解，与原来的问题的解是一致的。"
   ]
  }
 ],
 "metadata": {
  "kernelspec": {
   "display_name": "Python 3",
   "language": "python",
   "name": "python3"
  },
  "language_info": {
   "codemirror_mode": {
    "name": "ipython",
    "version": 3
   },
   "file_extension": ".py",
   "mimetype": "text/x-python",
   "name": "python",
   "nbconvert_exporter": "python",
   "pygments_lexer": "ipython3",
   "version": "3.7.1"
  }
 },
 "nbformat": 4,
 "nbformat_minor": 2
}
