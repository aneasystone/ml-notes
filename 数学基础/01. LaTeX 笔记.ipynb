{
 "cells": [
  {
   "cell_type": "markdown",
   "metadata": {},
   "source": [
    "在学习机器学习的过程中，难免会遇到一些符号和公式，要生成这类数学公式，使用 **LaTeX** 无疑是最适合的。这篇文档记录在我做笔记时用到的一些 LaTeX 语法。\n",
    "\n",
    "### 参考\n",
    "\n",
    "* [常用数学符号的 LaTeX 表示方法](http://www.mohu.org/info/symbols/symbols.htm)\n",
    "* [一份不太简短的 LATEX 2ε 介绍](http://www.mohu.org/info/lshort-cn.pdf)"
   ]
  }
 ],
 "metadata": {
  "kernelspec": {
   "display_name": "Python 3",
   "language": "python",
   "name": "python3"
  },
  "language_info": {
   "codemirror_mode": {
    "name": "ipython",
    "version": 3
   },
   "file_extension": ".py",
   "mimetype": "text/x-python",
   "name": "python",
   "nbconvert_exporter": "python",
   "pygments_lexer": "ipython3",
   "version": "3.7.1"
  }
 },
 "nbformat": 4,
 "nbformat_minor": 2
}
