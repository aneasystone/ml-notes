{
 "cells": [
  {
   "cell_type": "markdown",
   "metadata": {},
   "source": [
    "### 线性相关和线性无关\n",
    "\n",
    "如果有不全为 0 的数 $k_1, \\dots, k_s$ 使得 $k_1 \\bf{\\alpha_1} + \\dots + k_s \\bf{\\alpha_s} = 0$，那么向量组 $\\bf{\\alpha_1}, \\dots, \\bf{\\alpha_s}$ 称为 **线性相关** 的。\n",
    "\n",
    "如果只有全为 0 的数 $k_1, \\dots, k_s$ 使得 $k_1 \\bf{\\alpha_1} + \\dots + k_s \\bf{\\alpha_s} = 0$，那么向量组 $\\bf{\\alpha_1}, \\dots, \\bf{\\alpha_s}$ 称为 **线性无关** 的。\n",
    "\n",
    "判断一个向量组是否线性相关，一般将向量组组成一个矩阵，再对矩阵进行 **初等行变换** 转成 **阶梯型矩阵**，最后比较阶梯型矩阵的非零行数目和未知量数目。\n",
    "\n",
    "### 极大线性无关组\n",
    "\n",
    "如果一个向量组的部分组是线性无关的，但是从这个向量组的其余向量中（如果还有的话）任取一个添进去，得到的新的部分组都是线性相关的，那么这个部分组被称为 **极大线性无关组**。\n",
    "\n",
    "### 向量组的秩\n",
    "\n",
    "向量组的极大线性无关组所含向量的个数称为这个 **向量组的秩**。\n",
    "\n",
    "### 矩阵的秩\n",
    "\n",
    "矩阵 A 的列向量组的秩称为 A 的 **列秩**，A 的行向量组的秩称为 A 的 **行秩**，任一矩阵的行秩等于它的列秩，行秩和列秩统称为 A 的 **秩**，记为 $rank(A)$。\n",
    "\n",
    "### 满秩矩阵\n",
    "\n",
    "一个 n 级矩阵 A 的秩如果等于它的级数 n，那么称 A 为 **满秩矩阵**（full-rank matrix）。"
   ]
  }
 ],
 "metadata": {
  "kernelspec": {
   "display_name": "Python 3",
   "language": "python",
   "name": "python3"
  },
  "language_info": {
   "codemirror_mode": {
    "name": "ipython",
    "version": 3
   },
   "file_extension": ".py",
   "mimetype": "text/x-python",
   "name": "python",
   "nbconvert_exporter": "python",
   "pygments_lexer": "ipython3",
   "version": "3.7.1"
  }
 },
 "nbformat": 4,
 "nbformat_minor": 2
}
