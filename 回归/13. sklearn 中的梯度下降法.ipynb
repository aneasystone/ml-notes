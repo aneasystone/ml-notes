{
 "cells": [
  {
   "cell_type": "markdown",
   "metadata": {},
   "source": [
    "### sklearn 中的梯度下降法\n",
    "\n",
    "上面的求解过程中，我们每次的迭代都用到了所有样本，这样做可以让收敛速度最快，但是如果样本数非常多，计算性能就会变低，上面的例子中一共也就3个样本，所以不明显。像这种每次迭代都使用全部样本的方法，叫做 **批量梯度下降**（Batch gradient descend，BGD）。为了提高计算性能，可以在每次迭代中随机选取一个样本（或部分样本）用于计算，这样也可以保证收敛，虽然收敛的速度慢了点，但计算快很多，而且可以有效的避免陷入局部极小值情况。这种方法叫做 **随机梯度下降**（Stochastic gradient descend，SGD）。\n",
    "\n",
    "sklearn 中的 `SGDRegressor` 实现的就是随机梯度下降算法。"
   ]
  },
  {
   "cell_type": "code",
   "execution_count": 2,
   "metadata": {},
   "outputs": [
    {
     "name": "stdout",
     "output_type": "stream",
     "text": [
      "a = 1.5356587127294614, b = 1.0052652195613447\n"
     ]
    },
    {
     "data": {
      "image/png": "[encoded data removed]",
      "text/plain": [
       "<Figure size 432x288 with 1 Axes>"
      ]
     },
     "metadata": {
      "needs_background": "light"
     },
     "output_type": "display_data"
    }
   ],
   "source": [
    "import numpy as np\n",
    "import matplotlib.pyplot as plt\n",
    "from sklearn.linear_model import SGDRegressor\n",
    "\n",
    "X = np.array([0,1,2])\n",
    "Y = np.array([0.9, 3.1, 5.1])\n",
    "#X = np.array([39.93, 42.05, 43.18])\n",
    "#Y = np.array([199,   290,   298])\n",
    "\n",
    "model = SGDRegressor(max_iter=1000, tol=0.01)\n",
    "model.fit(X.reshape(-1,1), Y.ravel())\n",
    "\n",
    "plt.plot(X, Y, 'k.')\n",
    "\n",
    "x = [[0],[10]]\n",
    "#x = [[30],[60]]\n",
    "y = model.predict(x)\n",
    "\n",
    "b = y[0]\n",
    "a = (y[1]-b)/x[1][0]\n",
    "print(\"a = {0}, b = {1}\".format(a, b))\n",
    "\n",
    "plt.plot(x, y, 'g-')\n",
    "plt.show()"
   ]
  }
 ],
 "metadata": {
  "kernelspec": {
   "display_name": "Python 3",
   "language": "python",
   "name": "python3"
  },
  "language_info": {
   "codemirror_mode": {
    "name": "ipython",
    "version": 3
   },
   "file_extension": ".py",
   "mimetype": "text/x-python",
   "name": "python",
   "nbconvert_exporter": "python",
   "pygments_lexer": "ipython3",
   "version": "3.7.1"
  }
 },
 "nbformat": 4,
 "nbformat_minor": 2
}
