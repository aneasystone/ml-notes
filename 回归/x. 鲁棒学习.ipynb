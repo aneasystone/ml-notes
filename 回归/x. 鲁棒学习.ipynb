{
 "cells": [
  {
   "cell_type": "markdown",
   "metadata": {},
   "source": [
    "前面我们学习了通过最小二乘法求解回归模型，既可以求解线性回归，也可以扩展到非线性回归。最小二乘法是机器学习中的最基础的算法，这种求解损失函数最小值的思路可以延伸到更多的机器学习算法中，包括分类和聚类问题。\n",
    "\n",
    "介绍损失函数时我们提到了两种损失函数，一种是 **绝对损失（Absolute Loss）**，一种是 **平方损失（Squared Loss）**。\n",
    "\n",
    "绝对损失函数：$$ loss = |y - \\hat{y}| $$\n",
    "\n",
    "平方损失函数：$$ loss = (y - \\hat{y})^2 $$\n",
    "\n",
    "绝对损失函数因为不是处处可导，计算麻烦，所以我们选取了平方损失，最小二乘法就是求解平方损失函数的最小值。但是平方损失有一个很严重的问题，它对异常值非常敏感，在前面的例子中，我们使用的训练数据基本上都是正常的，也就是和模型大致是吻合的。如果我们在训练数据中加入异常值，这在实际场景中是经常遇到的，那么采用前面的最小二乘法，得到的模型会是什么样的呢？"
   ]
  },
  {
   "cell_type": "code",
   "execution_count": 28,
   "metadata": {},
   "outputs": [
    {
     "data": {
      "image/png": "[encoded data removed]",
      "text/plain": [
       "<Figure size 432x288 with 1 Axes>"
      ]
     },
     "metadata": {
      "needs_background": "light"
     },
     "output_type": "display_data"
    }
   ],
   "source": [
    "import numpy as np\n",
    "import matplotlib.pyplot as plt\n",
    "\n",
    "plt.xlim(30, 60)\n",
    "plt.ylim(0, 600)\n",
    "\n",
    "X = np.array([39.93, 42.05, 43.18, 44.68, 49.87, 53.57, 55.28])\n",
    "Y = np.array([199,   290,   298,   310,   399,   420,   30])\n",
    "plt.scatter(X, Y)\n",
    "\n",
    "plt.show()"
   ]
  },
  {
   "cell_type": "markdown",
   "metadata": {},
   "source": [
    "可以看到 (55.28, 30) 这个点明显有问题，对这个数据集进行训练："
   ]
  },
  {
   "cell_type": "code",
   "execution_count": 27,
   "metadata": {},
   "outputs": [
    {
     "name": "stdout",
     "output_type": "stream",
     "text": [
      "a = [[370.98773744]\n",
      " [ -1.98111201]]\n"
     ]
    }
   ],
   "source": [
    "import numpy as np\n",
    "\n",
    "X = np.matrix([\n",
    "    [1, 1, 1, 1, 1, 1, 1], \n",
    "    [39.93, 42.05, 43.18, 44.68, 49.87, 53.57, 55.28]]).T\n",
    "Y = np.matrix([199,   290,   298,   310, 399,   420, 30]).T\n",
    "\n",
    "a = (X.T * X).I * X.T * Y\n",
    "print(\"a = {0}\".format(a))"
   ]
  },
  {
   "cell_type": "markdown",
   "metadata": {},
   "source": [
    "得到线性模型模型：\n",
    "\n",
    "$$\n",
    "y = -1.98111201x + 370.98773744\n",
    "$$"
   ]
  },
  {
   "cell_type": "code",
   "execution_count": 26,
   "metadata": {},
   "outputs": [
    {
     "data": {
      "image/png": "[encoded data removed]",
      "text/plain": [
       "<Figure size 432x288 with 1 Axes>"
      ]
     },
     "metadata": {
      "needs_background": "light"
     },
     "output_type": "display_data"
    }
   ],
   "source": [
    "import numpy as np\n",
    "import matplotlib.pyplot as plt\n",
    "\n",
    "plt.xlim(30, 60)\n",
    "plt.ylim(0, 600)\n",
    "\n",
    "X = np.array([39.93, 42.05, 43.18, 44.68, 49.87, 53.57, 55.28])\n",
    "Y = np.array([199,   290,   298,   310,   399,   420,   30])\n",
    "plt.scatter(X, Y)\n",
    "\n",
    "x = np.linspace(30, 60, 200)\n",
    "y = -1.98111201*x + 370.98773744\n",
    "plt.plot(x, y)\n",
    "\n",
    "plt.show()"
   ]
  },
  {
   "cell_type": "markdown",
   "metadata": {},
   "source": [
    "可以看到，这个异常值直接导致模型完全变了样，这是因为在最小二乘法中我们使用的损失函数为平方损失：\n",
    "\n",
    "$$ loss = (y - \\hat{y})^2 $$\n",
    "\n",
    "其中，$y - \\hat{y}$ 叫做残差，表示训练样本和预测值之间的差值，显然异常值的残差比较大，为了让平方损失最小，模型不得不在正常值和异常值之间找一个平衡，这样残差越大，得出来的模型越不准确。有没有什么好的方法，能让学习算法对异常值不敏感？这种对异常值也能保持稳定可靠的性质，称为 **鲁棒性**。"
   ]
  }
 ],
 "metadata": {
  "kernelspec": {
   "display_name": "Python 3",
   "language": "python",
   "name": "python3"
  },
  "language_info": {
   "codemirror_mode": {
    "name": "ipython",
    "version": 3
   },
   "file_extension": ".py",
   "mimetype": "text/x-python",
   "name": "python",
   "nbconvert_exporter": "python",
   "pygments_lexer": "ipython3",
   "version": "3.7.1"
  }
 },
 "nbformat": 4,
 "nbformat_minor": 2
}
