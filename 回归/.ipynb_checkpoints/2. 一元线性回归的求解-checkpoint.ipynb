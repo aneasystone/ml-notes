{
 "cells": [
  {
   "cell_type": "code",
   "execution_count": 2,
   "metadata": {},
   "outputs": [
    {
     "data": {
      "image/png": "[encoded data removed]",
      "text/plain": [
       "<Figure size 432x288 with 1 Axes>"
      ]
     },
     "metadata": {
      "needs_background": "light"
     },
     "output_type": "display_data"
    }
   ],
   "source": [
    "import numpy as np\n",
    "import matplotlib.pyplot as plt\n",
    "\n",
    "plt.xlim(30, 60)\n",
    "plt.ylim(100, 600)\n",
    "\n",
    "X = np.array([[39.93,199],[42.05,290],[43.18,298],[44.68,310],[49.87,399],[53.57,420]])\n",
    "plt.scatter(X[:,0], X[:,1])\n",
    "\n",
    "x = np.linspace(30, 60, 100)\n",
    "y = 15*x-360\n",
    "plt.plot(x, y)\n",
    "\n",
    "plt.show()"
   ]
  },
  {
   "cell_type": "markdown",
   "metadata": {},
   "source": [
    "求解一元线性回归，实际上就是找一条直线，使得它和散点图中的所有点距离最近。但是怎么度量直线和散点的距离呢？\n",
    "\n",
    "一般来说有两种方法，一种是 **绝对损失（Absolute Loss）**，另一种是 **平方损失（Squared Loss）**。\n",
    "\n",
    "绝对损失函数：$$ l = |y - \\hat{y}| $$\n",
    "\n",
    "平方损失函数：$$ l = (y - \\hat{y})^2 $$\n",
    "\n",
    "其中，$ \\hat{y} $ 表示预测值，由于它是一元线性的，我们可以记为：$ \\hat{y} = ax + b $，这条直接也叫 **回归线**。在一元线性回归的实际求解中，因为平方损失处处可导，可以方便后面的计算，常常使用平方损失函数：\n",
    "\n",
    "$$\n",
    "\\begin{equation}\n",
    "\\begin{aligned}\n",
    "l &= (y - \\hat{y})^2 \\\\\n",
    "&= (y - (ax + b))^2 \\\\\n",
    "&= \\sum_{i=1}^{n}(y_i - (ax_i + b))^2\\\\\n",
    "&= (y_1 - (ax_i + b))^2 + (y_2 - (ax_2 + b))^2 + ... + (y_n - (ax_n + b))^2\n",
    "\\end{aligned}\n",
    "\\end{equation}\n",
    "$$\n",
    "\n",
    "将其完全展开可得：\n",
    "\n",
    "$$\n",
    "l = (y_1^2 + y_2^2 + ... + y_n^2) + a^2(x_1^2 + x_2^2 + ... + x_n^2) + nb^2 + 2ab(x_1 + x_2 + ... + x_n) - 2a(x_1y_1 + x_2y_2 + ... + x_ny_n) -2b(y_1 + y_2 + ... + y_n)\n",
    "$$\n",
    "\n",
    "令 $ \\bar{x} = \\frac{x_1 + x_2 + ... + x_n}{n} $，表示 x 的平均数，则：\n",
    "\n",
    "$$\n",
    "l = n\\bar{y^2} + a^2n\\bar{x^2} + nb^2 + 2abn\\bar{x} - 2an\\bar{xy} - 2bn\\bar{y}\n",
    "$$"
   ]
  }
 ],
 "metadata": {
  "kernelspec": {
   "display_name": "Python 3",
   "language": "python",
   "name": "python3"
  },
  "language_info": {
   "codemirror_mode": {
    "name": "ipython",
    "version": 3
   },
   "file_extension": ".py",
   "mimetype": "text/x-python",
   "name": "python",
   "nbconvert_exporter": "python",
   "pygments_lexer": "ipython3",
   "version": "3.7.1"
  }
 },
 "nbformat": 4,
 "nbformat_minor": 2
}
