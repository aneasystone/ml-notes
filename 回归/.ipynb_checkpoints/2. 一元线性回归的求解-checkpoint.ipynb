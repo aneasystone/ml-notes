{
 "cells": [
  {
   "cell_type": "code",
   "execution_count": 3,
   "metadata": {},
   "outputs": [
    {
     "data": {
      "image/png": "[encoded data removed]",
      "text/plain": [
       "<Figure size 432x288 with 1 Axes>"
      ]
     },
     "metadata": {
      "needs_background": "light"
     },
     "output_type": "display_data"
    }
   ],
   "source": [
    "import numpy as np\n",
    "import matplotlib.pyplot as plt\n",
    "\n",
    "plt.xlim(30, 60)\n",
    "plt.ylim(100, 600)\n",
    "\n",
    "X = np.array([39.93, 42.05, 43.18, 44.68, 49.87, 53.57])\n",
    "Y = np.array([199,   290,   298,   310,   399,   420])\n",
    "plt.scatter(X, Y)\n",
    "\n",
    "x = np.linspace(30, 60, 100)\n",
    "y = 15*x-360\n",
    "plt.plot(x, y)\n",
    "\n",
    "plt.show()"
   ]
  },
  {
   "cell_type": "markdown",
   "metadata": {},
   "source": [
    "求解一元线性回归，实际上就是找一条直线，使得它和散点图中的所有点距离最近。但是怎么度量直线和散点的距离呢？\n",
    "\n",
    "一般来说有两种方法，一种是 **绝对损失（Absolute Loss）**，另一种是 **平方损失（Squared Loss）**。\n",
    "\n",
    "绝对损失函数：$$ l = |y - \\hat{y}| $$\n",
    "\n",
    "平方损失函数：$$ l = (y - \\hat{y})^2 $$\n",
    "\n",
    "其中，$ \\hat{y} $ 表示预测值，由于它是一元线性的，我们可以记为：$ \\hat{y} = ax + b $，这条直接也叫 **回归线**。在一元线性回归的实际求解中，因为平方损失处处可导，可以方便后面的计算，常常使用平方损失函数：\n",
    "\n",
    "$$\n",
    "\\begin{equation}\n",
    "\\begin{aligned}\n",
    "l &= (y - \\hat{y})^2 \\\\\n",
    "&= (y - (ax + b))^2 \\\\\n",
    "&= \\sum_{i=1}^{n}(y_i - (ax_i + b))^2\\\\\n",
    "&= (y_1 - (ax_i + b))^2 + (y_2 - (ax_2 + b))^2 + ... + (y_n - (ax_n + b))^2\n",
    "\\end{aligned}\n",
    "\\end{equation}\n",
    "$$\n",
    "\n",
    "将其完全展开可得：\n",
    "\n",
    "$$\n",
    "l = (y_1^2 + y_2^2 + ... + y_n^2) + a^2(x_1^2 + x_2^2 + ... + x_n^2) + nb^2 + 2ab(x_1 + x_2 + ... + x_n) - 2a(x_1y_1 + x_2y_2 + ... + x_ny_n) -2b(y_1 + y_2 + ... + y_n)\n",
    "$$\n",
    "\n",
    "令 $ \\bar{x} = \\frac{x_1 + x_2 + ... + x_n}{n} $，表示 x 的平均数，则：\n",
    "\n",
    "$$\n",
    "l = n\\bar{y^2} + a^2n\\bar{x^2} + nb^2 + 2abn\\bar{x} - 2an\\bar{xy} - 2bn\\bar{y}\n",
    "$$\n",
    "\n",
    "很显然，这是一个关于 a、b 变量的二元二次函数，我们记为：\n",
    "\n",
    "$$\n",
    "F(a, b) = n\\bar{y^2} + a^2n\\bar{x^2} + nb^2 + 2abn\\bar{x} - 2an\\bar{xy} - 2bn\\bar{y}\n",
    "$$\n",
    "\n",
    "那么问题就转变成了求函数 F(a, b) 的最小值。为了求解这个问题，我们先看看一元函数的极值问题。"
   ]
  },
  {
   "cell_type": "code",
   "execution_count": 26,
   "metadata": {},
   "outputs": [
    {
     "data": {
      "image/png": "[encoded data removed]",
      "text/plain": [
       "<Figure size 432x288 with 1 Axes>"
      ]
     },
     "metadata": {
      "needs_background": "light"
     },
     "output_type": "display_data"
    }
   ],
   "source": [
    "import numpy as np\n",
    "import matplotlib.pyplot as plt\n",
    "\n",
    "x = np.linspace(-2, 2, 100)\n",
    "y = x*x*x*x - 2*x*x + 8\n",
    "plt.plot(x, y)\n",
    "\n",
    "plt.show()"
   ]
  },
  {
   "cell_type": "markdown",
   "metadata": {},
   "source": [
    "上面画出了一元函数的图像：\n",
    "\n",
    "$$\n",
    "y = x^4 - 2x^2 + 8\n",
    "$$\n",
    "\n",
    "从图中可以很直观的看出，当 x = 0 时，函数有极大值 8，当 x = 1 或 x = -1 时，函数有极小值 7。这里引申出两个数学概念：**极值** 和 **最值**。在数学分析中，某个函数在指定范围内的最大值和最小值被统称为极值，一般通过 **导数** 来求极值和最值：\n",
    "\n",
    "$$\n",
    "y' = 4x^3 -4x\n",
    "$$\n",
    "\n",
    "令 $ y' = 0 $，可以求得：\n",
    "\n",
    "$$\n",
    "x^3 - x = 0 \\to x = 0 或 x = \\pm 1\n",
    "$$\n",
    "\n",
    "根据极值点将函数的定义域划分为几个区间，并计算各个区间的单调性：\n",
    "\n",
    "|x |($-\\infty$, -1)|-1   |(-1, 0)   |0    |(0,1)     |1    |(1,$+\\infty$)|\n",
    "|- |---------------|-----|----------|-----|----------|-----|-------------|\n",
    "|y'|-              |0    |+         |0    |-         |0    |+            |\n",
    "|y |$\\searrow$     |7    |$\\nearrow$|8    |$\\searrow$|7    |$\\nearrow$   |\n",
    "\n",
    "检查极值点两侧导数的符号，如果是左正右负，则为极大值点，如果左负右正，则为极小值点。显然，由于函数在 ($-\\infty$, -1) 区间内单调递减，在 (1,$+\\infty$) 区间内单调递增，所以比较所有的极小值，最小的那个就是函数在整个定义域内的最小值。\n",
    "\n",
    "这里介绍的是一元函数的极值求解方法，再回到我们刚刚的损失函数：\n",
    "\n",
    "$$\n",
    "F(a, b) = n\\bar{y^2} + a^2n\\bar{x^2} + nb^2 + 2abn\\bar{x} - 2an\\bar{xy} - 2bn\\bar{y}\n",
    "$$\n",
    "\n",
    "这是一个关于 a、b 变量的二元函数，类似的，二元函数的极值也可以通过导数来求解，不过这里要用到 **偏导** 的概念，也就是只对其中一个变量求导，其余变量当作常数看待，那么二元函数就有两个偏导，并令其等于 0：\n",
    "\n",
    "$$\n",
    "\\left\\{\n",
    "\\begin{aligned}\n",
    "\\frac{\\partial}{\\partial a} F(a, b) &=& 2n\\bar{x^2}a + 2bn\\bar{x} - 2n\\bar{xy} &=& 0 \\\\\n",
    "\\frac{\\partial}{\\partial b} F(a, b) &=& 2nb + 2an\\bar{x} - 2n\\bar{y} &=& 0 \\\\\n",
    "\\end{aligned}\n",
    "\\right.\n",
    "$$\n",
    "\n",
    "结合两个方程可以求得：\n",
    "\n",
    "$$\n",
    "\\left\\{\n",
    "\\begin{aligned}\n",
    "a &=& \\frac{\\bar{xy} - \\bar{x}\\bar{y}}{\\bar{x^2} - (\\bar{x})^2} \\\\\n",
    "b &=& \\bar{y} - a\\bar{x}\n",
    "\\end{aligned}\n",
    "\\right.\n",
    "$$\n",
    "\n",
    "通过这个公式，就可以求出 a，b 的值，从而求得回归线。"
   ]
  },
  {
   "cell_type": "code",
   "execution_count": 13,
   "metadata": {},
   "outputs": [
    {
     "name": "stdout",
     "output_type": "stream",
     "text": [
      "bar_x = 45.546666666666674\n",
      "bar_y = 319.3333333333333\n",
      "bar_xx = 2096.697333333333\n",
      "bar_xy = 14876.089999999997\n",
      "a = 14.93439993913547\n",
      "b = -360.878802561157\n"
     ]
    }
   ],
   "source": [
    "import numpy as np\n",
    "\n",
    "X = np.array([39.93, 42.05, 43.18, 44.68, 49.87, 53.57])\n",
    "Y = np.array([199,   290,   298,   310,   399,   420])\n",
    "\n",
    "bar_x = np.sum(X) / X.size\n",
    "bar_y = np.sum(Y) / Y.size\n",
    "print(\"bar_x = {0}\".format(bar_x))\n",
    "print(\"bar_y = {0}\".format(bar_y))\n",
    "\n",
    "bar_xx = np.sum(np.multiply(X, X)) / X.size\n",
    "bar_xy = np.sum(np.multiply(X, Y)) / X.size\n",
    "print(\"bar_xx = {0}\".format(bar_xx))\n",
    "print(\"bar_xy = {0}\".format(bar_xy))\n",
    "\n",
    "a = (bar_xy - bar_x * bar_y) / (bar_xx - bar_x * bar_x)\n",
    "b = bar_y - a * bar_x\n",
    "print(\"a = {0}\".format(a))\n",
    "print(\"b = {0}\".format(b))"
   ]
  },
  {
   "cell_type": "markdown",
   "metadata": {},
   "source": [
    "所以，求得一元线性回归的解为：\n",
    "\n",
    "$$\n",
    "y = ax + b = 14.93x - 360.88\n",
    "$$\n",
    "\n",
    "这种通过求解平方损失函数的最小值来求解线性回归的方法，我们称之为 **最小二乘法（Least Squares，简称 LS）**，这是机器学习中最基础的一个算法。"
   ]
  }
 ],
 "metadata": {
  "kernelspec": {
   "display_name": "Python 3",
   "language": "python",
   "name": "python3"
  },
  "language_info": {
   "codemirror_mode": {
    "name": "ipython",
    "version": 3
   },
   "file_extension": ".py",
   "mimetype": "text/x-python",
   "name": "python",
   "nbconvert_exporter": "python",
   "pygments_lexer": "ipython3",
   "version": "3.7.1"
  }
 },
 "nbformat": 4,
 "nbformat_minor": 2
}
