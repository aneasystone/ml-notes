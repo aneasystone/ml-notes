{
 "cells": [
  {
   "cell_type": "markdown",
   "metadata": {},
   "source": [
    "在现实生活中，纯粹的线性模型是很难遇到的，我们不妨再来看看下面的数据集：\n",
    "\n",
    "| x | y |\n",
    "|---|---|\n",
    "|40 |216|\n",
    "|50 |399|\n",
    "|60 |496|\n",
    "|70 |507|\n",
    "|80 |432|\n",
    "|90 |271|\n",
    "\n",
    "如果我们按照线性回归的解法，也能得到解，如下所示："
   ]
  },
  {
   "cell_type": "code",
   "execution_count": 25,
   "metadata": {},
   "outputs": [
    {
     "name": "stdout",
     "output_type": "stream",
     "text": [
      "a = [[315.33333333]\n",
      " [  1.1       ]]\n"
     ]
    }
   ],
   "source": [
    "import numpy as np\n",
    "\n",
    "X = np.matrix([\n",
    "    [1, 1, 1, 1, 1, 1], \n",
    "    [40, 50, 60, 70, 80, 90]]).T\n",
    "Y = np.matrix([216, 399, 496, 507, 432, 271]).T\n",
    "\n",
    "a = (X.T * X).I * X.T * Y\n",
    "print(\"a = {0}\".format(a))"
   ]
  },
  {
   "cell_type": "markdown",
   "metadata": {},
   "source": [
    "得到一元线性回归：\n",
    "\n",
    "$$\n",
    "y = 1.1x + 315.33\n",
    "$$\n",
    "\n",
    "我们画出回归线和散点数据："
   ]
  },
  {
   "cell_type": "code",
   "execution_count": 29,
   "metadata": {},
   "outputs": [
    {
     "data": {
      "image/png": "[encoded data removed]",
      "text/plain": [
       "<Figure size 432x288 with 1 Axes>"
      ]
     },
     "metadata": {
      "needs_background": "light"
     },
     "output_type": "display_data"
    }
   ],
   "source": [
    "import numpy as np\n",
    "import matplotlib.pyplot as plt\n",
    "\n",
    "plt.xlim(30, 100)\n",
    "plt.ylim(100, 600)\n",
    "\n",
    "X = np.array([40, 50, 60, 70, 80, 90])\n",
    "Y = np.array([216, 399, 496, 507, 432, 271])\n",
    "plt.scatter(X, Y)\n",
    "\n",
    "x = np.linspace(30, 100)\n",
    "y = 1.1*x+315.33\n",
    "plt.plot(x, y)\n",
    "\n",
    "plt.show()"
   ]
  },
  {
   "cell_type": "markdown",
   "metadata": {},
   "source": [
    "从图中很容易看出，线性回归对数据的拟合度不是很高，很显然散点的分布不是直线，而是一个二次曲线。我们知道二次曲线通常可以写成这样：\n",
    "\n",
    "$$\n",
    "y = a_0 + a_1x + a_2x^2\n",
    "$$\n",
    "\n",
    "到现在为止，我们一直在处理线性回归问题，那么对于这种不是线性的情况，该如何求解呢？首先，看到上面这个式子，我们不由得联想到了我们之前遇到的二元线性回归：\n",
    "\n",
    "$$\n",
    "y = a_0 + a_1x_1 + a_2x_2\n",
    "$$\n",
    "\n",
    "二元线性回归问题处理的是两个自变量，但是我们这里只有一个自变量，怎么办呢？答案是：自己造一个出来。\n",
    "\n",
    "| x |$x^2$| y |\n",
    "|---|-----|---|\n",
    "|40 |1600 |216|\n",
    "|50 |2500 |399|\n",
    "|60 |3600 |496|\n",
    "|70 |4900 |507|\n",
    "|80 |6400 |432|\n",
    "|90 |8100 |271|\n",
    "\n",
    "我们引入一个新变量 $x^2$，令：$x_1 = x, x_2 = x^2$，这样我们就可以像处理线性回归问题一样处理非线性回归问题了。"
   ]
  },
  {
   "cell_type": "code",
   "execution_count": 30,
   "metadata": {},
   "outputs": [
    {
     "name": "stdout",
     "output_type": "stream",
     "text": [
      "a = [[-1376.  ]\n",
      " [   57.  ]\n",
      " [   -0.43]]\n"
     ]
    }
   ],
   "source": [
    "import numpy as np\n",
    "\n",
    "X = np.matrix([\n",
    "    [1, 1, 1, 1, 1, 1], \n",
    "    [40, 50, 60, 70, 80, 90],\n",
    "    [1600, 2500, 3600, 4900, 6400, 8100]]).T\n",
    "Y = np.matrix([216, 399, 496, 507, 432, 271]).T\n",
    "\n",
    "a = (X.T * X).I * X.T * Y\n",
    "print(\"a = {0}\".format(a))"
   ]
  },
  {
   "cell_type": "markdown",
   "metadata": {},
   "source": [
    "得到回归问题的解：\n",
    "\n",
    "$$\n",
    "\\begin{align}\n",
    "y &= 57x_1 - 0.43x_2 - 1376 \\\\\n",
    "&= 57x - 0.43x^2 - 1376\n",
    "\\end{align}\n",
    "$$\n",
    "\n",
    "画出二次曲线图，拟合度非常高："
   ]
  },
  {
   "cell_type": "code",
   "execution_count": 31,
   "metadata": {},
   "outputs": [
    {
     "data": {
      "image/png": "[encoded data removed]",
      "text/plain": [
       "<Figure size 432x288 with 1 Axes>"
      ]
     },
     "metadata": {
      "needs_background": "light"
     },
     "output_type": "display_data"
    }
   ],
   "source": [
    "import numpy as np\n",
    "import matplotlib.pyplot as plt\n",
    "\n",
    "plt.xlim(30, 100)\n",
    "plt.ylim(100, 600)\n",
    "\n",
    "X = np.array([40, 50, 60, 70, 80, 90])\n",
    "Y = np.array([216, 399, 496, 507, 432, 271])\n",
    "plt.scatter(X, Y)\n",
    "\n",
    "x = np.linspace(30, 100)\n",
    "y = 57*x - 0.43*x*x - 1376\n",
    "plt.plot(x, y)\n",
    "\n",
    "plt.show()"
   ]
  },
  {
   "cell_type": "markdown",
   "metadata": {},
   "source": [
    "一元二次回归的求解可以转换为二元线性回归的求解。依葫芦画瓢，当我们遇到一元三次，一元四次，或 一元 N 次曲线时，也可以将自变量 $x$ 扩充为 $x^3$，$x^4$ 或 $x^N$，从而转换为 N 元线性回归的求解。如果自变量不止一个，譬如二元三次曲线，也可以使用同样的方法，只不过要注意自变量之间的组合。"
   ]
  }
 ],
 "metadata": {
  "kernelspec": {
   "display_name": "Python 3",
   "language": "python",
   "name": "python3"
  },
  "language_info": {
   "codemirror_mode": {
    "name": "ipython",
    "version": 3
   },
   "file_extension": ".py",
   "mimetype": "text/x-python",
   "name": "python",
   "nbconvert_exporter": "python",
   "pygments_lexer": "ipython3",
   "version": "3.7.1"
  }
 },
 "nbformat": 4,
 "nbformat_minor": 2
}
