{
 "cells": [
  {
   "cell_type": "markdown",
   "metadata": {},
   "source": [
    "从一元线性回归和二元线性回归的解法中可以看到，线性回归的一般思路是这样的：\n",
    "\n",
    "1. 定义损失函数：$ l = (y - \\hat{y})^2 $\n",
    "2. 将线性回归函数 $ \\hat{y} = a_0 + a_1x_1 + a_2x_2 + ... + a_nx_n $ 代入损失函数，并求解系数 $a_0$，$a_1$，...，$a_n$ 使得损失函数最小\n",
    "3. 损失函数的最小值可以通过对损失函数求导来实现，分别对每个系数求偏导，并令其等于 0\n",
    "4. 得到一个关于各个系数的线性方程组，求解这个线性方程组得到各个系数的值\n",
    "\n",
    "在求解一元线性回归时，线性方程组是这样的：\n",
    "\n",
    "$$\n",
    "\\left\\{\n",
    "\\begin{aligned}\n",
    "\\frac{\\partial}{\\partial a} F(a, b) &=& 2n\\bar{x^2}a + 2bn\\bar{x} - 2n\\bar{xy} &=& 0 \\\\\n",
    "\\frac{\\partial}{\\partial b} F(a, b) &=& 2nb + 2an\\bar{x} - 2n\\bar{y} &=& 0 \\\\\n",
    "\\end{aligned}\n",
    "\\right.\n",
    "$$\n",
    "\n",
    "在求解二元线性回归时，线性方程组是这样的：\n",
    "\n",
    "$$\n",
    "\\left\\{\n",
    "\\begin{aligned}\n",
    "\\frac{\\partial}{\\partial a_0} F(a_0, a_1, a_2) &=& 2a_0 + 2a_1\\bar{x_1} + 2a_2\\bar{x_2} - 2\\bar{y} &=& 0 \\\\\n",
    "\\frac{\\partial}{\\partial a_1} F(a_0, a_1, a_2) &=& 2a_1\\bar{x_1^2} + 2a_2\\bar{x_1x_2} + 2a_0\\bar{x_1} - 2\\bar{x_1y} &=& 0 \\\\\n",
    "\\frac{\\partial}{\\partial a_2} F(a_0, a_1, a_2) &=& 2a_2\\bar{x_2^2} + 2a_1\\bar{x_1x_2} + 2a_0\\bar{x_2} - 2\\bar{x_2y} &=& 0 \\\\\n",
    "\\end{aligned}\n",
    "\\right.\n",
    "$$\n",
    "\n",
    "一元线性回归的解是：\n",
    "\n",
    "$$\n",
    "\\left\\{\n",
    "\\begin{aligned}\n",
    "a &=& \\frac{\\bar{xy} - \\bar{x}\\bar{y}}{\\bar{x^2} - (\\bar{x})^2} \\\\\n",
    "b &=& \\bar{y} - a\\bar{x}\n",
    "\\end{aligned}\n",
    "\\right.\n",
    "$$\n",
    "\n",
    "二元线性回归的解是：\n",
    "\n",
    "$$\n",
    "\\left\\{\n",
    "\\begin{aligned}\n",
    "a_0 &=& \\bar{y} - a_1\\bar{x_1} - a_2\\bar{x_2} \\\\\n",
    "a_1 &=& \\frac{(\\bar{x_1y}-\\bar{x_1}\\bar{y})(\\bar{x_2^2}-(\\bar{x_2})^2) - (\\bar{x_2y}-\\bar{x_2}\\bar{y})(\\bar{x_1x_2}-\\bar{x_1}\\bar{x_2})}{(\\bar{x_1^2}-(\\bar{x_1})^2)(\\bar{x_2^2}-(\\bar{x_2})^2) - (\\bar{x_1x_2}-\\bar{x_1}\\bar{x_2})^2} \\\\\n",
    "a_2 &=& \\frac{(\\bar{x_1y}-\\bar{x_1}\\bar{y})(\\bar{x_1x_2}-\\bar{x_1}\\bar{x_2}) - (\\bar{x_2y}-\\bar{x_2}\\bar{y})(\\bar{x_1^2} - (\\bar{x_1})^2)}{(\\bar{x_1x_2}-\\bar{x_1}\\bar{x_2})^2 - (\\bar{x_2^2}-(\\bar{x_2})^2)(\\bar{x_1^2}-(\\bar{x_1})^2)}\n",
    "\\end{aligned}\n",
    "\\right.\n",
    "$$\n",
    "\n",
    "可以看到，使用这种方法来求解线性回归非常麻烦。当我们扩展到多元线性回归时，这个计算量是极大的。"
   ]
  }
 ],
 "metadata": {
  "kernelspec": {
   "display_name": "Python 3",
   "language": "python",
   "name": "python3"
  },
  "language_info": {
   "codemirror_mode": {
    "name": "ipython",
    "version": 3
   },
   "file_extension": ".py",
   "mimetype": "text/x-python",
   "name": "python",
   "nbconvert_exporter": "python",
   "pygments_lexer": "ipython3",
   "version": "3.7.1"
  }
 },
 "nbformat": 4,
 "nbformat_minor": 2
}
