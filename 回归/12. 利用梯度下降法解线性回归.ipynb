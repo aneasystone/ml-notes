{
 "cells": [
  {
   "cell_type": "markdown",
   "metadata": {},
   "source": [
    "### 一元线性回归的梯度下降\n",
    "\n",
    "下面使用梯度下降算法来求解前面的线性回归问题，我们知道，对一元线性回归，损失函数为：\n",
    "\n",
    "$$\n",
    "loss = J(a, b) = \\frac{1}{2m} \\sum_{i=1}^{m}(y_i - (ax_i + b))^2\n",
    "$$\n",
    "\n",
    "这是一个二元二次方程，我们对该方程求梯度，也就是分别对参数 a 和 b 求偏导，得到参数的更新公式：\n",
    "\n",
    "$$\n",
    "\\begin{align}\n",
    "a &:= a - \\eta \\frac{\\partial J(a, b)}{\\partial a} \\\\\n",
    "b &:= b - \\eta \\frac{\\partial J(a, b)}{\\partial b} \\\\\n",
    "\\end{align}\n",
    "$$\n",
    "\n",
    "将损失函数带入上式求导，得到：\n",
    "\n",
    "$$\n",
    "\\begin{align}\n",
    "a &:= a - \\eta \\frac{1}{m} \\sum_{i=1}^{m}(y_i - (ax_i + b))x_i \\\\\n",
    "b &:= b - \\eta \\frac{1}{m} \\sum_{i=1}^{m}(y_i - (ax_i + b))\n",
    "\\end{align}\n",
    "$$\n",
    "\n",
    "我们使用代码来实现这个过程，先来看一个最简单的例子，手工造几个散点，然后使用梯度下降法来求解线性回归。如下所示："
   ]
  },
  {
   "cell_type": "code",
   "execution_count": 5,
   "metadata": {},
   "outputs": [
    {
     "data": {
      "image/png": "[encoded data removed]",
      "text/plain": [
       "<Figure size 432x288 with 1 Axes>"
      ]
     },
     "metadata": {
      "needs_background": "light"
     },
     "output_type": "display_data"
    }
   ],
   "source": [
    "import matplotlib.pyplot as plt\n",
    "import numpy as np\n",
    "\n",
    "X = np.array([0,1,2])\n",
    "Y = np.array([0.9, 3.1, 5.1])\n",
    "\n",
    "plt.plot(X, Y, 'k.')\n",
    "plt.show()"
   ]
  },
  {
   "cell_type": "markdown",
   "metadata": {},
   "source": [
    "很显然这是一个一元线性回归，根据上面的介绍，我们可以定义出损失函数和参数 a, b 的更新公式："
   ]
  },
  {
   "cell_type": "code",
   "execution_count": 7,
   "metadata": {},
   "outputs": [],
   "source": [
    "# 损失函数\n",
    "def loss(X, Y, a, b):\n",
    "    s = 0\n",
    "    for i in range(X.size):\n",
    "        s += ((a*X[i] + b)-Y[i])**2\n",
    "    return s * (1./2*Y.size)\n",
    "\n",
    "# 参数 a 的更新公式\n",
    "def update_a(X, Y, a, b, eta):\n",
    "    s = 0\n",
    "    for i in range(X.size):\n",
    "        s += ((a*X[i] + b)-Y[i])*X[i]\n",
    "    return a - eta * s * (1./Y.size)\n",
    "\n",
    "# 参数 b 的更新公式\n",
    "def update_b(X, Y, a, b, eta):\n",
    "    s = 0\n",
    "    for i in range(X.size):\n",
    "        s += ((a*X[i] + b)-Y[i])\n",
    "    return b - eta * s * (1./Y.size)"
   ]
  },
  {
   "cell_type": "markdown",
   "metadata": {},
   "source": [
    "我们选取参数的初始值 $(a, b) = (0, 0)$，并令学习率 $\\eta = 0.01$，然后进行第一次迭代，并计算损失函数的值和上次损失函数的值之间的差值（这个差值可以用于判断梯度下降过程是否已经收敛，如果两次损失函数的差值足够小，就认为收敛）："
   ]
  },
  {
   "cell_type": "code",
   "execution_count": 8,
   "metadata": {},
   "outputs": [
    {
     "name": "stdout",
     "output_type": "stream",
     "text": [
      "a = 0.04433333333333332, b = 0.03033333333333333, loss = 52.07898433333334, diff = 2.566015666666658\n"
     ]
    }
   ],
   "source": [
    "a = 0\n",
    "b = 0\n",
    "eta = 0.01\n",
    "\n",
    "a_new = update_a(X, Y, a, b, eta)\n",
    "b_new = update_b(X, Y, a, b, eta)\n",
    "loss_new = loss(X, Y, a_new, b_new)\n",
    "diff = abs(loss(X, Y, a, b) - loss(X, Y, a_new, b_new))\n",
    "print(\"a = {0}, b = {1}, loss = {2}, diff = {3}\".format(a_new, b_new, loss_new, diff))"
   ]
  },
  {
   "cell_type": "markdown",
   "metadata": {},
   "source": [
    "我们不妨画出迭代一次后的图像，很显然，这个差值还比较大，我们需要继续这个过程："
   ]
  },
  {
   "cell_type": "code",
   "execution_count": 9,
   "metadata": {},
   "outputs": [
    {
     "data": {
      "image/png": "[encoded data removed]",
      "text/plain": [
       "<Figure size 432x288 with 1 Axes>"
      ]
     },
     "metadata": {
      "needs_background": "light"
     },
     "output_type": "display_data"
    }
   ],
   "source": [
    "plt.plot(X, Y, 'k.')\n",
    "\n",
    "x = np.linspace(0, 10, 10)\n",
    "y = a_new*x+b_new\n",
    "\n",
    "plt.plot(x, y, 'g-')\n",
    "plt.show()"
   ]
  },
  {
   "cell_type": "markdown",
   "metadata": {},
   "source": [
    "我们把这个过程改为迭代 10 次："
   ]
  },
  {
   "cell_type": "code",
   "execution_count": 10,
   "metadata": {},
   "outputs": [
    {
     "name": "stdout",
     "output_type": "stream",
     "text": [
      "a = 0.04433333333333332, b = 0.03033333333333333, loss = 52.07898433333334, diff = 2.566015666666658\n",
      "a = 0.08762444444444442, b = 0.059919999999999994, loss = 49.63396493034815, diff = 2.4450194029851886\n",
      "a = 0.12989817037037035, b = 0.08877788888888888, loss = 47.30423372457149, diff = 2.3297312057766604\n",
      "a = 0.17117875530864196, b = 0.11692446162962962, loss = 45.08435194574915, diff = 2.219881778822341\n",
      "a = 0.21148986477053494, b = 0.14437676279358025, loss = 42.969137414855254, diff = 2.115214530893894\n",
      "a = 0.25085459939642357, b = 0.17115142985127244, loss = 40.95365243850431, diff = 2.0154849763509475\n",
      "a = 0.2892955084413038, b = 0.1972647028921288, loss = 39.03319227448755, diff = 1.9204601640167596\n",
      "a = 0.32683460293836075, b = 0.22273243411212781, loss = 37.20327414148798, diff = 1.8299181329995662\n",
      "a = 0.3634933685482668, b = 0.24757009707495625, loss = 35.45962674730114, diff = 1.7436473941868442\n",
      "a = 0.3992927781017128, b = 0.27179279575205734, loss = 33.79818031109894, diff = 1.6614464362021977\n"
     ]
    }
   ],
   "source": [
    "for i in range(10):\n",
    "    a_new = update_a(X, Y, a, b, eta)\n",
    "    b_new = update_b(X, Y, a, b, eta)\n",
    "    loss_new = loss(X, Y, a_new, b_new)\n",
    "    diff = abs(loss(X, Y, a, b) - loss(X, Y, a_new, b_new))\n",
    "    print(\"a = {0}, b = {1}, loss = {2}, diff = {3}\".format(a_new, b_new, loss_new, diff))\n",
    "    a = a_new\n",
    "    b = b_new"
   ]
  },
  {
   "cell_type": "markdown",
   "metadata": {},
   "source": [
    "可以看到 loss 和 diff 都变得越来越小，说明损失函数在不断收敛，画出现在的图像："
   ]
  },
  {
   "cell_type": "code",
   "execution_count": 11,
   "metadata": {},
   "outputs": [
    {
     "data": {
      "image/png": "[encoded data removed]",
      "text/plain": [
       "<Figure size 432x288 with 1 Axes>"
      ]
     },
     "metadata": {
      "needs_background": "light"
     },
     "output_type": "display_data"
    }
   ],
   "source": [
    "plt.plot(X, Y, 'k.')\n",
    "\n",
    "x = np.linspace(0, 10, 10)\n",
    "y = a_new*x+b_new\n",
    "\n",
    "plt.plot(x, y, 'g-')\n",
    "plt.show()"
   ]
  },
  {
   "cell_type": "markdown",
   "metadata": {},
   "source": [
    "比迭代一次靠谱多了，我们再继续这个过程，迭代 1000 次："
   ]
  },
  {
   "cell_type": "code",
   "execution_count": 12,
   "metadata": {
    "scrolled": false
   },
   "outputs": [
    {
     "name": "stdout",
     "output_type": "stream",
     "text": [
      "a = 2.083663961231524, b = 0.9559983763104101, loss = 0.010980851812161636, diff = 5.500906925493335e-06\n"
     ]
    }
   ],
   "source": [
    "for i in range(1000):\n",
    "    a_new = update_a(X, Y, a, b, eta)\n",
    "    b_new = update_b(X, Y, a, b, eta)\n",
    "    loss_new = loss(X, Y, a_new, b_new)\n",
    "    diff = abs(loss(X, Y, a, b) - loss(X, Y, a_new, b_new))\n",
    "    a = a_new\n",
    "    b = b_new\n",
    "    \n",
    "print(\"a = {0}, b = {1}, loss = {2}, diff = {3}\".format(a_new, b_new, loss_new, diff))"
   ]
  },
  {
   "cell_type": "markdown",
   "metadata": {},
   "source": [
    "diff 的值已经趋近于 0，说明已经达到收敛，这个时候的图形，就是我们根据梯度下降法求得的结果："
   ]
  },
  {
   "cell_type": "code",
   "execution_count": 13,
   "metadata": {},
   "outputs": [
    {
     "data": {
      "image/png": "[encoded data removed]",
      "text/plain": [
       "<Figure size 432x288 with 1 Axes>"
      ]
     },
     "metadata": {
      "needs_background": "light"
     },
     "output_type": "display_data"
    }
   ],
   "source": [
    "plt.plot(X, Y, 'k.')\n",
    "\n",
    "x = np.linspace(0, 10, 10)\n",
    "y = a_new*x+b_new\n",
    "\n",
    "plt.plot(x, y, 'g-')\n",
    "plt.show()"
   ]
  },
  {
   "cell_type": "markdown",
   "metadata": {},
   "source": [
    "### 多元线性回归的梯度下降\n",
    "\n",
    "上面是对一元线性回归的梯度下降法的介绍，回到线性回归的一般形式：\n",
    "\n",
    "$$\n",
    "\\hat{y} = \\theta_0 + \\theta_1x_1 + \\theta_2x_2 + ... + \\theta_nx_n = \\theta^Tx\n",
    "$$\n",
    "\n",
    "其对应的损失函数为：\n",
    "\n",
    "$$\n",
    "loss = J(\\theta_0, \\theta_1, \\dots, \\theta_n) = J(\\theta) = \\frac{1}{2m} \\sum_{i=1}^{m}(y^{(i)} - \\theta^Tx^{(i)})^2\n",
    "$$\n",
    "\n",
    "对 $J(\\theta)$ 进行求导，得到参数 $\\theta$ 的更新公式：\n",
    "\n",
    "$$\n",
    "\\left\\{\n",
    "\\begin{align}\n",
    "\\theta_0 &:= \\theta_0 - \\eta \\frac{1}{m} \\sum_{i=1}^{m}(y^{(i)} - \\theta^Tx^{(i)})x_0^{(i)} \\\\\n",
    "\\theta_1 &:= \\theta_1 - \\eta \\frac{1}{m} \\sum_{i=1}^{m}(y^{(i)} - \\theta^Tx^{(i)})x_1^{(i)} \\\\\n",
    "\\theta_2 &:= \\theta_2 - \\eta \\frac{1}{m} \\sum_{i=1}^{m}(y^{(i)} - \\theta^Tx^{(i)})x_2^{(i)} \\\\\n",
    "\\vdots \\\\\n",
    "\\theta_n &:= \\theta_n - \\eta \\frac{1}{m} \\sum_{i=1}^{m}(y^{(i)} - \\theta^Tx^{(i)})x_n^{(i)} \\\\\n",
    "\\end{align}\n",
    "\\right.\n",
    "$$\n",
    "\n",
    "其中，$m$ 表示样本个数，$n$ 表示特征维度，$x^{(i)}$ 表示第 i 个样本，$x^{(i)}_n$ 表示第 i 个样本的第 n 个特征。\n",
    "为了方便表达和计算，损失函数也可以写成下面的矩阵形式：\n",
    "\n",
    "$$\n",
    "loss = J(\\theta) = \\frac{1}{2m} (\\bf{y}-\\rm{X}\\theta)^T (\\bf{y}-\\rm{X}\\theta)\n",
    "$$\n",
    "\n",
    "根据前面的矩阵求导，得到梯度下降的更新公式为：\n",
    "\n",
    "$$\n",
    "\\begin{aligned}\n",
    "\\theta &:= \\theta - \\eta \\frac{\\partial}{\\partial\\theta}J(\\theta) \\\\\n",
    "       &= \\theta - \\eta \\frac{1}{m} X^T(\\rm{X}\\theta-\\bf{y})\n",
    "\\end{aligned}\n",
    "$$\n",
    "\n",
    "TODO：使用矩阵的迹（Trace）求矩阵导数。\n",
    "\n",
    "我们把上面的代码改成矩阵计算的形式："
   ]
  },
  {
   "cell_type": "code",
   "execution_count": 60,
   "metadata": {},
   "outputs": [
    {
     "name": "stdout",
     "output_type": "stream",
     "text": [
      "theta: 0.9333333336913473 2.099999999741958\n",
      "loss: [[0.01]]\n"
     ]
    },
    {
     "data": {
      "image/png": "[encoded data removed]",
      "text/plain": [
       "<Figure size 432x288 with 1 Axes>"
      ]
     },
     "metadata": {
      "needs_background": "light"
     },
     "output_type": "display_data"
    }
   ],
   "source": [
    "import numpy as np\n",
    "import matplotlib.pyplot as plt\n",
    "\n",
    "# 计算损失函数 J 的梯度\n",
    "def gradient_function(theta, X, y):\n",
    "    diff = np.dot(X, theta) - y\n",
    "    return (1./y.size) * np.dot(np.transpose(X), diff)\n",
    "\n",
    "# 梯度下降\n",
    "def gradient_descent(X, y, eta, theta_init, max_iter):\n",
    "    theta = theta_init\n",
    "    i = 0\n",
    "    gradient = gradient_function(theta, X, y)\n",
    "    while not np.all(np.absolute(gradient) <= 1e-10):\n",
    "        theta = theta - eta * gradient\n",
    "#         print('theta:', theta[0,0], theta[1,0])\n",
    "        i += 1\n",
    "        if i > max_iter:\n",
    "            break\n",
    "        gradient = gradient_function(theta, X, y)\n",
    "#         print('gradient:', gradient[0,0], gradient[1,0])\n",
    "    return theta\n",
    "\n",
    "# 损失函数\n",
    "def loss_function(theta, X, y):\n",
    "    diff = np.dot(X, theta) - y\n",
    "    return (1./2*y.size) * np.dot(np.transpose(diff), diff)\n",
    "\n",
    "# 数据集\n",
    "X0 = np.ones((3, 1))\n",
    "X1 = np.array([0,1,2]).reshape(-1, 1)\n",
    "X = np.hstack((X0, X1))\n",
    "y = np.array([0.9, 3.1, 5.1]).reshape(-1, 1)\n",
    "\n",
    "# 学习率\n",
    "eta = 0.01\n",
    "\n",
    "# 最大迭代次数\n",
    "max_iter = 10000\n",
    "\n",
    "# 初始值\n",
    "theta_init = np.array([0, 0]).reshape(-1, 1)\n",
    "\n",
    "# 使用梯度下降求解线性回归\n",
    "theta = gradient_descent(X, y, eta, theta_init, max_iter)\n",
    "print('theta:', theta[0,0], theta[1,0])\n",
    "print('loss:', loss_function(theta, X, y))\n",
    "\n",
    "# 绘制图形\n",
    "plt.plot(X1, y, 'k.')\n",
    "x = np.linspace(0, 10, 10)\n",
    "y = theta[0,0]*x+theta[1,0]\n",
    "plt.plot(x, y, 'g-')\n",
    "plt.show()"
   ]
  },
  {
   "cell_type": "markdown",
   "metadata": {},
   "source": [
    "### 疑惑一\n",
    "\n",
    "为什么上面两种方法求出来的解不一样？"
   ]
  },
  {
   "cell_type": "markdown",
   "metadata": {},
   "source": [
    "### 疑惑二\n",
    "\n",
    "在前面介绍正规方程法解一元线性回归时，使用了下面的数据集，这个数据集不知道为什么用梯度下降法无法收敛？\n",
    "\n",
    "```\n",
    "X = np.array([39.93, 42.05, 43.18, 44.68, 49.87, 53.57])\n",
    "Y = np.array([199,   290,   298,   310,   399,   420])\n",
    "```"
   ]
  },
  {
   "cell_type": "code",
   "execution_count": 63,
   "metadata": {},
   "outputs": [
    {
     "name": "stdout",
     "output_type": "stream",
     "text": [
      "theta: 0.7489393245009788 7.078701795630663\n",
      "loss: [[32892.8042478]]\n"
     ]
    },
    {
     "data": {
      "image/png": "[encoded data removed]",
      "text/plain": [
       "<Figure size 432x288 with 1 Axes>"
      ]
     },
     "metadata": {
      "needs_background": "light"
     },
     "output_type": "display_data"
    }
   ],
   "source": [
    "import numpy as np\n",
    "import matplotlib.pyplot as plt\n",
    "\n",
    "# 计算损失函数 J 的梯度\n",
    "def gradient_function(theta, X, y):\n",
    "    diff = np.dot(X, theta) - y\n",
    "    return (1./y.size) * np.dot(np.transpose(X), diff)\n",
    "\n",
    "# 梯度下降\n",
    "def gradient_descent(X, y, eta, theta_init, max_iter):\n",
    "    theta = theta_init\n",
    "    i = 0\n",
    "    gradient = gradient_function(theta, X, y)\n",
    "    while not np.all(np.absolute(gradient) <= 1e-10):\n",
    "        theta = theta - eta * gradient\n",
    "        i += 1\n",
    "        if i > max_iter:\n",
    "            break\n",
    "        gradient = gradient_function(theta, X, y)\n",
    "    return theta\n",
    "\n",
    "# 损失函数\n",
    "def loss_function(theta, X, y):\n",
    "    diff = np.dot(X, theta) - y\n",
    "    return (1./2*y.size) * np.dot(np.transpose(diff), diff)\n",
    "\n",
    "# 数据集\n",
    "X0 = np.ones((6, 1))\n",
    "X1 = np.array([39.93, 42.05, 43.18, 44.68, 49.87, 53.57]).reshape(-1, 1)\n",
    "X = np.hstack((X0, X1))\n",
    "y = np.array([199,   290,   298,   310,   399,   420]).reshape(-1, 1)\n",
    "\n",
    "# 学习率\n",
    "eta = 0.00001\n",
    "\n",
    "# 最大迭代次数\n",
    "max_iter = 10000\n",
    "\n",
    "# 初始值\n",
    "theta_init = np.array([1, 1]).reshape(-1, 1)\n",
    "\n",
    "# 使用梯度下降求解线性回归\n",
    "theta = gradient_descent(X, y, eta, theta_init, max_iter)\n",
    "print('theta:', theta[0,0], theta[1,0])\n",
    "print('loss:', loss_function(theta, X, y))\n",
    "\n",
    "# 绘制图形\n",
    "plt.plot(X1, y, 'k.')\n",
    "x = np.linspace(30, 60, 100)\n",
    "y = theta[0,0]*x+theta[1,0]\n",
    "plt.plot(x, y, 'g-')\n",
    "plt.show()"
   ]
  }
 ],
 "metadata": {
  "kernelspec": {
   "display_name": "Python 3",
   "language": "python",
   "name": "python3"
  },
  "language_info": {
   "codemirror_mode": {
    "name": "ipython",
    "version": 3
   },
   "file_extension": ".py",
   "mimetype": "text/x-python",
   "name": "python",
   "nbconvert_exporter": "python",
   "pygments_lexer": "ipython3",
   "version": "3.7.1"
  }
 },
 "nbformat": 4,
 "nbformat_minor": 2
}
