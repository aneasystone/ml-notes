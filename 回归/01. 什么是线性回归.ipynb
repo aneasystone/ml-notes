{
 "cells": [
  {
   "cell_type": "markdown",
   "metadata": {},
   "source": [
    "### 一元线性回归\n",
    "\n",
    "假设有下面的数据，表示某地区房屋面积和售价的关系：\n",
    "\n",
    "|房屋面积（平米）|售价（万）|\n",
    "|-------------|--------|\n",
    "|39.93        |199     |\n",
    "|42.05        |290     |\n",
    "|43.18        |298     |\n",
    "|44.68        |310     |\n",
    "|49.87        |399     |\n",
    "|53.57        |420     |\n",
    "\n",
    "将房屋面积作为横坐标（自变量），售价作为纵坐标（因变量），在二维坐标系中，可以画出一条类似直线的散点图："
   ]
  },
  {
   "cell_type": "code",
   "execution_count": 19,
   "metadata": {
    "scrolled": true
   },
   "outputs": [
    {
     "data": {
      "image/png": "[encoded data removed]",
      "text/plain": [
       "<Figure size 432x288 with 1 Axes>"
      ]
     },
     "metadata": {
      "needs_background": "light"
     },
     "output_type": "display_data"
    }
   ],
   "source": [
    "import numpy as np\n",
    "import matplotlib.pyplot as plt\n",
    "\n",
    "plt.xlim(30, 60)\n",
    "plt.ylim(100, 600)\n",
    "\n",
    "X = np.array([[39.93,199],[42.05,290],[43.18,298],[44.68,310],[49.87,399],[53.57,420]])\n",
    "plt.scatter(X[:,0], X[:,1])\n",
    "\n",
    "plt.show()"
   ]
  },
  {
   "cell_type": "markdown",
   "metadata": {},
   "source": [
    "如何找到一条直线，能最大程度的拟合这些散点数据，这就是 **线性回归**，由于这里只有一个自变量，所以叫做 **一元线性回归**。"
   ]
  },
  {
   "cell_type": "code",
   "execution_count": 20,
   "metadata": {},
   "outputs": [
    {
     "data": {
      "image/png": "[encoded data removed]",
      "text/plain": [
       "<Figure size 432x288 with 1 Axes>"
      ]
     },
     "metadata": {
      "needs_background": "light"
     },
     "output_type": "display_data"
    }
   ],
   "source": [
    "import numpy as np\n",
    "import matplotlib.pyplot as plt\n",
    "\n",
    "plt.xlim(30, 60)\n",
    "plt.ylim(100, 600)\n",
    "\n",
    "X = np.array([[39.93,199],[42.05,290],[43.18,298],[44.68,310],[49.87,399],[53.57,420]])\n",
    "plt.scatter(X[:,0], X[:,1])\n",
    "\n",
    "x = np.linspace(30, 60, 100)\n",
    "y = 15*x-360\n",
    "plt.plot(x, y)\n",
    "\n",
    "plt.show()"
   ]
  },
  {
   "cell_type": "markdown",
   "metadata": {},
   "source": [
    "在 Andrew Ng 的机器学习讲义中也举了个类似的例子，他使用的是美国俄亥俄州 Portland Oregon 城市的房屋价格，显得更真实一点。都是用房屋面积作为自变量，房屋价格作为因变量。我们知道一元线性函数一般表示为：\n",
    "\n",
    "$$\n",
    "y = ax + b\n",
    "$$\n",
    "\n",
    "一元线性回归就是确定这里的参数 a 和 b，如果刚好有两个点，就可以确定一个二元方程组：\n",
    "\n",
    "$$\n",
    "\\begin{cases}\n",
    "y_1 = ax_1 + b \\\\\n",
    "y_2 = ax_2 + b\n",
    "\\end{cases}\n",
    "$$\n",
    "\n",
    "我们根据线性代数的知识，有很多种方法可以解这个方程组，比如**矩阵消元法**，**克莱姆法则**，**逆矩阵**及**增广矩阵法**等等。但是对于大多数给定的数据集，线性方程组有唯一解的概率比较小，多数都是解不存在的**超定方程组**。对于这种问题，在计算数学中通常将参数求解问题退化为求最小误差问题，找到一个最接近的解，这叫做**松弛求解**。"
   ]
  }
 ],
 "metadata": {
  "kernelspec": {
   "display_name": "Python 3",
   "language": "python",
   "name": "python3"
  },
  "language_info": {
   "codemirror_mode": {
    "name": "ipython",
    "version": 3
   },
   "file_extension": ".py",
   "mimetype": "text/x-python",
   "name": "python",
   "nbconvert_exporter": "python",
   "pygments_lexer": "ipython3",
   "version": "3.7.1"
  }
 },
 "nbformat": 4,
 "nbformat_minor": 2
}
