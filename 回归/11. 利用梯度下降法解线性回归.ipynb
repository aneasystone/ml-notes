{
 "cells": [
  {
   "cell_type": "markdown",
   "metadata": {},
   "source": [
    "下面使用梯度下降算法来求解前面的线性回归问题，我们知道，对一元线性回归，损失函数为：\n",
    "\n",
    "$$\n",
    "loss = J(a, b) = \\sum_{i=1}^{n}(y_i - (ax_i + b))^2\n",
    "$$\n",
    "\n",
    "针对上面的损失函数，假设选取一个初始点 $(a_0, b_0)$，然后沿着梯度方向对初始值进行更新得到 $(a_1, b_1)$：\n",
    "\n",
    "$$\n",
    "\\begin{align}\n",
    "a_1 &= a_0 - \\eta \\frac{\\partial J(a, b)}{\\partial a} \\\\\n",
    "b_1 &= b_0 - \\eta \\frac{\\partial J(a, b)}{\\partial b} \\\\\n",
    "\\end{align}\n",
    "$$\n",
    "\n",
    "然后再对 $(a_1, b_1)$ 进行更新得到 $(a_2, b_2)$，以此类推，直到损失函数的值不再有显著变化，最终得到 $(a_k, b_k)$ 就是我们要求的参数，它使损失函数达到最小。\n",
    "\n",
    "回到线性回归的一般形式，损失函数可以写成下面这样：\n",
    "\n",
    "$$\n",
    "loss = J(\\theta) = (\\bf{y}-\\rm{X}\\theta)^T (\\bf{y}-\\rm{X}\\theta)\n",
    "$$\n",
    "\n",
    "根据前面的矩阵求导，得到梯度下降的更新公式为：\n",
    "\n",
    "$$\n",
    "\\begin{aligned}\n",
    "\\theta &:= \\theta - \\alpha\\frac{\\partial}{\\partial\\theta}J(\\theta) \\\\\n",
    "       &= \\theta - \\alpha X^T(\\bf{y}-\\rm{X}\\theta)\n",
    "\\end{aligned}\n",
    "$$\n",
    "\n",
    "其中，$\\alpha$ 被称为学习率，$:=$ 表示用右边的值替代左边的值，用梯度下降算法的流程就是，设定 $\\theta$ 的初始值，使用梯度下降的更新公式不断的更新 $\\theta$ 的值，直到 $J(\\theta)$ 收敛。"
   ]
  },
  {
   "cell_type": "markdown",
   "metadata": {},
   "source": [
    "### 标准化和归一化\n",
    "\n",
    "在实际的运用中我们选取的特征，比如长度，重量，面积等等，通常单位和范围都不同，这会导致梯度下降算法变慢，所以我们要将特征缩放到相对统一的范围内。通常的方法有 **标准化（Standardization）** 和 **归一化（Normalization）**。\n",
    "\n",
    "标准化是把数据变成符合标准的正态分布，由 **中心极限定理** 可知，当数据量足够大时，无论原来的数据是何种分布，都可以通过下面的更新公式转变成正态分布：\n",
    "\n",
    "$$\n",
    "x_i := \\frac{x_i-\\mu}{\\delta}\n",
    "$$\n",
    "\n",
    "归一化对梯度下降算法很友好，可以让算法最终收敛并且提高训练速度和精度，归一化的更新公式为：\n",
    "\n",
    "$$\n",
    "x_i := \\frac{x_i-min(x_i)}{max(x_i)-min(x_i)}\n",
    "$$"
   ]
  }
 ],
 "metadata": {
  "kernelspec": {
   "display_name": "Python 3",
   "language": "python",
   "name": "python3"
  },
  "language_info": {
   "codemirror_mode": {
    "name": "ipython",
    "version": 3
   },
   "file_extension": ".py",
   "mimetype": "text/x-python",
   "name": "python",
   "nbconvert_exporter": "python",
   "pygments_lexer": "ipython3",
   "version": "3.7.1"
  }
 },
 "nbformat": 4,
 "nbformat_minor": 2
}
