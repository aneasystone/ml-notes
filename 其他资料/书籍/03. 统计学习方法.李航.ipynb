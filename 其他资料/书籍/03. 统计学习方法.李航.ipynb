{
 "cells": [
  {
   "cell_type": "markdown",
   "metadata": {},
   "source": [
    "## 第 1 章 统计学习方法概论\n",
    "\n",
    "## 第 2 章 感知机\n",
    "\n",
    "## 第 3 章 k 近邻法\n",
    "\n",
    "## 第 4 章 朴素贝叶斯法\n",
    "\n",
    "## 第 5 章 决策树\n",
    "\n",
    "## 第 6 章 逻辑斯蒂回归与最大熵模型\n",
    "\n",
    "## 第 7 章 支持向量机\n",
    "\n",
    "## 第 8 章 提升方法\n",
    "\n",
    "## 第 9 章 EM 算法及其推广\n",
    "\n",
    "## 第 10 章 隐马尔可夫模型\n",
    "\n",
    "## 第 11 章 条件随机场\n",
    "\n",
    "## 第 12 章 统计学习方法总结\n",
    "\n",
    "## 附录 A 梯度下降法\n",
    "\n",
    "## 附录 B 牛顿法和拟牛顿法\n",
    "\n",
    "## 附录 C 拉格朗日对偶性"
   ]
  }
 ],
 "metadata": {
  "kernelspec": {
   "display_name": "Python 3",
   "language": "python",
   "name": "python3"
  },
  "language_info": {
   "codemirror_mode": {
    "name": "ipython",
    "version": 3
   },
   "file_extension": ".py",
   "mimetype": "text/x-python",
   "name": "python",
   "nbconvert_exporter": "python",
   "pygments_lexer": "ipython3",
   "version": "3.7.1"
  }
 },
 "nbformat": 4,
 "nbformat_minor": 2
}
