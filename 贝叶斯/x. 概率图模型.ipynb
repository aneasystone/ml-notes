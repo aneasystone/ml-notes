{
 "cells": [
  {
   "cell_type": "markdown",
   "metadata": {},
   "source": [
    "### 概率图模型分类\n",
    "\n",
    "* 概率图模型（Probabilistic Graphical Model，PGM）\n",
    "  * 贝叶斯网络（Bayesian Network，有向图模型）\n",
    "    * 隐马尔可夫模型（Hidden Markov Model，HMM，生成式模型）\n",
    "  * 马尔可夫网络（Markov Network，无向图模型）\n",
    "    * 马尔可夫随即场（Markov Random Field，MRF，生成式模型）\n",
    "    * 条件随即场（Conditional Random Field，CRF，判别式模型）\n",
    "    \n",
    "### 概率图模型的推断方法\n",
    "\n",
    "* 精确推断（动态规划问题）\n",
    "  * 变量消去\n",
    "  * 信念传播（Belief Propagation）\n",
    "* 近似推断\n",
    "  * 采样（sampling）\n",
    "    * 马尔可夫链-蒙特卡洛（Markov Chain Monte Carlo，MCMC）\n",
    "      * Metropolis-Hastings（MH 算法）\n",
    "      * 吉布斯采样（Gibbs sampling）\n",
    "  * 变分推断（variational inference）"
   ]
  }
 ],
 "metadata": {
  "kernelspec": {
   "display_name": "Python 3",
   "language": "python",
   "name": "python3"
  },
  "language_info": {
   "codemirror_mode": {
    "name": "ipython",
    "version": 3
   },
   "file_extension": ".py",
   "mimetype": "text/x-python",
   "name": "python",
   "nbconvert_exporter": "python",
   "pygments_lexer": "ipython3",
   "version": "3.7.1"
  }
 },
 "nbformat": 4,
 "nbformat_minor": 2
}
